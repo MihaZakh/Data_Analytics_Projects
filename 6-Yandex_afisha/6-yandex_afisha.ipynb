{
 "cells": [
  {
   "cell_type": "markdown",
   "metadata": {},
   "source": [
    "# Аналитика в Яндекс.Афише"
   ]
  },
  {
   "cell_type": "markdown",
   "metadata": {},
   "source": [
    "**Задание:** помочь маркетологам оптимизировать маркетинговые затраты Яндекс.Афиши.<br>\n",
    "Данные от Яндекс.Афиши с июня 2017 по конец мая 2018 года:\n",
    "- лог сервера с данными о посещениях сайта Яндекс.Афиши,\n",
    "- выгрузка всех заказов за этот период,\n",
    "- статистика рекламных расходов."
   ]
  },
  {
   "cell_type": "markdown",
   "metadata": {},
   "source": [
    "Необходимо изучить:\n",
    "- как люди пользуются продуктом,\n",
    "- когда они начинают покупать,\n",
    "- сколько денег приносит каждый клиент\n",
    "- когда клиент окупается."
   ]
  },
  {
   "cell_type": "markdown",
   "metadata": {},
   "source": [
    "## Загрузка и предобработка данных"
   ]
  },
  {
   "cell_type": "code",
   "execution_count": 1,
   "metadata": {},
   "outputs": [
    {
     "name": "stdout",
     "output_type": "stream",
     "text": [
      "<class 'pandas.core.frame.DataFrame'>\n",
      "RangeIndex: 359400 entries, 0 to 359399\n",
      "Data columns (total 5 columns):\n",
      "Device       359400 non-null object\n",
      "End Ts       359400 non-null object\n",
      "Source Id    359400 non-null int64\n",
      "Start Ts     359400 non-null object\n",
      "Uid          359400 non-null uint64\n",
      "dtypes: int64(1), object(3), uint64(1)\n",
      "memory usage: 13.7+ MB\n"
     ]
    }
   ],
   "source": [
    "import pandas as pd\n",
    "visits = pd.read_csv('/datasets/visits_log.csv')\n",
    "visits.info()"
   ]
  },
  {
   "cell_type": "code",
   "execution_count": 2,
   "metadata": {},
   "outputs": [
    {
     "name": "stdout",
     "output_type": "stream",
     "text": [
      "<class 'pandas.core.frame.DataFrame'>\n",
      "RangeIndex: 359400 entries, 0 to 359399\n",
      "Data columns (total 5 columns):\n",
      "device       359400 non-null object\n",
      "end_ts       359400 non-null datetime64[ns]\n",
      "source_id    359400 non-null int64\n",
      "start_ts     359400 non-null datetime64[ns]\n",
      "uid          359400 non-null uint64\n",
      "dtypes: datetime64[ns](2), int64(1), object(1), uint64(1)\n",
      "memory usage: 13.7+ MB\n",
      "None\n"
     ]
    }
   ],
   "source": [
    "visits['End Ts'] = pd.to_datetime(visits['End Ts'])\n",
    "visits['Start Ts'] = pd.to_datetime(visits['Start Ts'])\n",
    "\n",
    "visits.rename(\n",
    "        columns={'Source Id': 'source_id', 'End Ts': 'end_ts', 'Start Ts': 'start_ts'},\n",
    "        inplace=True)\n",
    "visits.columns = visits.columns.str.lower()\n",
    "\n",
    "print(visits.info())"
   ]
  },
  {
   "cell_type": "code",
   "execution_count": 3,
   "metadata": {},
   "outputs": [
    {
     "name": "stdout",
     "output_type": "stream",
     "text": [
      "Дубликатов нет\n"
     ]
    }
   ],
   "source": [
    "visits = visits.query('source_id != 7 & source_id != 6')\n",
    "visits_duplicates = visits.duplicated().sum()\n",
    "if visits_duplicates == 0:\n",
    "    print('Дубликатов нет')"
   ]
  },
  {
   "cell_type": "code",
   "execution_count": 4,
   "metadata": {},
   "outputs": [
    {
     "name": "stdout",
     "output_type": "stream",
     "text": [
      "<class 'pandas.core.frame.DataFrame'>\n",
      "RangeIndex: 50415 entries, 0 to 50414\n",
      "Data columns (total 3 columns):\n",
      "buy ts     50415 non-null datetime64[ns]\n",
      "revenue    50415 non-null float64\n",
      "uid        50415 non-null uint64\n",
      "dtypes: datetime64[ns](1), float64(1), uint64(1)\n",
      "memory usage: 1.2 MB\n"
     ]
    }
   ],
   "source": [
    "orders = pd.read_csv('/datasets/orders_log.csv')\n",
    "\n",
    "orders['Buy Ts'] = pd.to_datetime(orders['Buy Ts'])\n",
    "orders.columns = orders.columns.str.lower()\n",
    "\n",
    "orders.info()"
   ]
  },
  {
   "cell_type": "code",
   "execution_count": 5,
   "metadata": {},
   "outputs": [
    {
     "name": "stdout",
     "output_type": "stream",
     "text": [
      "Дубликатов нет\n"
     ]
    }
   ],
   "source": [
    "orders_duplicates = orders.duplicated().sum()\n",
    "if orders_duplicates == 0:\n",
    "    print('Дубликатов нет')"
   ]
  },
  {
   "cell_type": "code",
   "execution_count": 6,
   "metadata": {},
   "outputs": [
    {
     "name": "stdout",
     "output_type": "stream",
     "text": [
      "<class 'pandas.core.frame.DataFrame'>\n",
      "RangeIndex: 2542 entries, 0 to 2541\n",
      "Data columns (total 3 columns):\n",
      "source_id    2542 non-null int64\n",
      "dt           2542 non-null datetime64[ns]\n",
      "costs        2542 non-null float64\n",
      "dtypes: datetime64[ns](1), float64(1), int64(1)\n",
      "memory usage: 59.7 KB\n"
     ]
    }
   ],
   "source": [
    "costs = pd.read_csv('/datasets/costs.csv')\n",
    "costs['dt'] = pd.to_datetime(costs['dt'])\n",
    "costs.info()"
   ]
  },
  {
   "cell_type": "code",
   "execution_count": 7,
   "metadata": {},
   "outputs": [
    {
     "name": "stdout",
     "output_type": "stream",
     "text": [
      "Дубликатов нет\n"
     ]
    }
   ],
   "source": [
    "costs_duplicates = costs.duplicated().sum()\n",
    "if costs_duplicates == 0:\n",
    "    print('Дубликатов нет')"
   ]
  },
  {
   "cell_type": "markdown",
   "metadata": {},
   "source": [
    "В таблицах нет пустых значений и дубликатов, тип данных был изменён только в полях с датой и временем. Названия столбцов из первых двух таблиц переведены в нижний регистр. Из таблицы с посещениями удалены посещения из источников 7 и 6, так как данных о затратах и прибыли с них нет."
   ]
  },
  {
   "cell_type": "markdown",
   "metadata": {},
   "source": [
    "## Отчёты и метрики"
   ]
  },
  {
   "cell_type": "markdown",
   "metadata": {},
   "source": [
    "### Продукт\n",
    "Сколько людей пользуются в день, неделю, месяц?\n",
    "Сколько сессий в день?\n",
    "Сколько длится одна сессия?\n",
    "Как часто люди возвращаются?"
   ]
  },
  {
   "cell_type": "code",
   "execution_count": 8,
   "metadata": {},
   "outputs": [
    {
     "name": "stdout",
     "output_type": "stream",
     "text": [
      "В день на сайт заходят в среднем 907 пользователей.\n",
      "В неделю на сайт заходят в среднем 4910 пользователей.\n",
      "В месяц на сайт заходят в среднем 23225 пользователей.\n"
     ]
    }
   ],
   "source": [
    "visits['year'] = visits['start_ts'].dt.year\n",
    "visits['month'] = visits['start_ts'].dt.month\n",
    "visits['day'] = visits['start_ts'].dt.day\n",
    "visits['week'] = visits['start_ts'].dt.week\n",
    "\n",
    "visits_grouped_by_day = visits.groupby(['year', 'month', 'day']).agg({'uid': 'nunique'})\n",
    "visits_grouped_by_week = visits.groupby(['year', 'month', 'week']).agg({'uid': 'nunique'})\n",
    "visits_grouped_by_month = visits.groupby(['year', 'month']).agg({'uid': 'nunique'})\n",
    "\n",
    "mean_visitors_by_day = visits_grouped_by_day['uid'].mean().astype('int')\n",
    "mean_visitors_by_week = visits_grouped_by_week['uid'].mean().astype('int')\n",
    "mean_visitors_by_month = visits_grouped_by_month['uid'].mean().astype('int')\n",
    "\n",
    "print('В день на сайт заходят в среднем', mean_visitors_by_day, 'пользователей.')\n",
    "print('В неделю на сайт заходят в среднем', mean_visitors_by_week, 'пользователей.')\n",
    "print('В месяц на сайт заходят в среднем', mean_visitors_by_month, 'пользователей.')"
   ]
  },
  {
   "cell_type": "code",
   "execution_count": 9,
   "metadata": {},
   "outputs": [
    {
     "name": "stdout",
     "output_type": "stream",
     "text": [
      "Среднее количество сессий в день: 987\n"
     ]
    }
   ],
   "source": [
    "sessions_counted = visits.groupby(['year', 'month', 'day']).agg({'uid': 'count'})\n",
    "mean_sessions_per_day = sessions_counted['uid'].mean().astype('int')\n",
    "print('Среднее количество сессий в день:', mean_sessions_per_day)"
   ]
  },
  {
   "cell_type": "markdown",
   "metadata": {},
   "source": [
    "Среднее количество сессий больше, чем количество уникальных пользователей, следовательно, некоторые пользователи посещают сайт несколько раз в день"
   ]
  },
  {
   "cell_type": "markdown",
   "metadata": {},
   "source": [
    "<font color=green> Верно\n",
    "</font>"
   ]
  },
  {
   "cell_type": "code",
   "execution_count": 10,
   "metadata": {},
   "outputs": [
    {
     "name": "stdout",
     "output_type": "stream",
     "text": [
      "Мода продолжительности одной сессии: 1 минута\n"
     ]
    }
   ],
   "source": [
    "import numpy as np\n",
    "visits['duration'] = (visits['end_ts'] - visits['start_ts']) / np.timedelta64(1, 'm')\n",
    "\n",
    "mode_of_duration = visits['duration'].mode()[0].round().astype('int')\n",
    "print('Мода продолжительности одной сессии:', mode_of_duration, 'минута')"
   ]
  },
  {
   "cell_type": "code",
   "execution_count": 11,
   "metadata": {},
   "outputs": [
    {
     "data": {
      "text/plain": [
       "<matplotlib.axes._subplots.AxesSubplot at 0x7fd7f29d9790>"
      ]
     },
     "execution_count": 11,
     "metadata": {},
     "output_type": "execute_result"
    },
    {
     "data": {
      "image/png": "[encoded data removed]",
      "text/plain": [
       "<Figure size 864x288 with 1 Axes>"
      ]
     },
     "metadata": {
      "needs_background": "light"
     },
     "output_type": "display_data"
    }
   ],
   "source": [
    "visits['duration'].plot.hist(bins=150, figsize=(12,4), xlim=(0,200))"
   ]
  },
  {
   "cell_type": "code",
   "execution_count": 12,
   "metadata": {},
   "outputs": [],
   "source": [
    "first_activity_date = visits.groupby(['uid'])['start_ts'].min()\n",
    "first_activity_date.name = 'first_activity_date'\n",
    "visits = visits.join(first_activity_date, on='uid')"
   ]
  },
  {
   "cell_type": "code",
   "execution_count": 13,
   "metadata": {},
   "outputs": [
    {
     "data": {
      "text/html": [
       "<div>\n",
       "<style scoped>\n",
       "    .dataframe tbody tr th:only-of-type {\n",
       "        vertical-align: middle;\n",
       "    }\n",
       "\n",
       "    .dataframe tbody tr th {\n",
       "        vertical-align: top;\n",
       "    }\n",
       "\n",
       "    .dataframe thead th {\n",
       "        text-align: right;\n",
       "    }\n",
       "</style>\n",
       "<table border=\"1\" class=\"dataframe\">\n",
       "  <thead>\n",
       "    <tr style=\"text-align: right;\">\n",
       "      <th></th>\n",
       "      <th>first_activity_month</th>\n",
       "      <th>cohort_lifetime</th>\n",
       "      <th>uid</th>\n",
       "    </tr>\n",
       "  </thead>\n",
       "  <tbody>\n",
       "    <tr>\n",
       "      <td>73</td>\n",
       "      <td>2018-03-01</td>\n",
       "      <td>1</td>\n",
       "      <td>861</td>\n",
       "    </tr>\n",
       "    <tr>\n",
       "      <td>74</td>\n",
       "      <td>2018-03-01</td>\n",
       "      <td>2</td>\n",
       "      <td>557</td>\n",
       "    </tr>\n",
       "    <tr>\n",
       "      <td>75</td>\n",
       "      <td>2018-04-01</td>\n",
       "      <td>0</td>\n",
       "      <td>15708</td>\n",
       "    </tr>\n",
       "    <tr>\n",
       "      <td>76</td>\n",
       "      <td>2018-04-01</td>\n",
       "      <td>1</td>\n",
       "      <td>760</td>\n",
       "    </tr>\n",
       "    <tr>\n",
       "      <td>77</td>\n",
       "      <td>2018-05-01</td>\n",
       "      <td>0</td>\n",
       "      <td>15271</td>\n",
       "    </tr>\n",
       "  </tbody>\n",
       "</table>\n",
       "</div>"
      ],
      "text/plain": [
       "   first_activity_month  cohort_lifetime    uid\n",
       "73           2018-03-01                1    861\n",
       "74           2018-03-01                2    557\n",
       "75           2018-04-01                0  15708\n",
       "76           2018-04-01                1    760\n",
       "77           2018-05-01                0  15271"
      ]
     },
     "execution_count": 13,
     "metadata": {},
     "output_type": "execute_result"
    }
   ],
   "source": [
    "visits['first_activity_month'] = visits['first_activity_date'].astype('datetime64[M]')\n",
    "\n",
    "visits['cohort_lifetime'] = visits['start_ts'].astype('datetime64[M]') - visits['first_activity_month']\n",
    "visits['cohort_lifetime'] = visits['cohort_lifetime'] / np.timedelta64(1,'M')\n",
    "visits['cohort_lifetime'] = visits['cohort_lifetime'].round().astype('int')\n",
    "\n",
    "cohorts = visits.groupby(['first_activity_month', 'cohort_lifetime']).agg({'uid': 'nunique'}).reset_index()\n",
    "cohorts.tail()"
   ]
  },
  {
   "cell_type": "code",
   "execution_count": 14,
   "metadata": {},
   "outputs": [
    {
     "data": {
      "text/html": [
       "<div>\n",
       "<style scoped>\n",
       "    .dataframe tbody tr th:only-of-type {\n",
       "        vertical-align: middle;\n",
       "    }\n",
       "\n",
       "    .dataframe tbody tr th {\n",
       "        vertical-align: top;\n",
       "    }\n",
       "\n",
       "    .dataframe thead th {\n",
       "        text-align: right;\n",
       "    }\n",
       "</style>\n",
       "<table border=\"1\" class=\"dataframe\">\n",
       "  <thead>\n",
       "    <tr style=\"text-align: right;\">\n",
       "      <th></th>\n",
       "      <th>first_activity_month</th>\n",
       "      <th>cohort_lifetime</th>\n",
       "      <th>all_users</th>\n",
       "      <th>cohort_users</th>\n",
       "      <th>retention</th>\n",
       "    </tr>\n",
       "  </thead>\n",
       "  <tbody>\n",
       "    <tr>\n",
       "      <td>1</td>\n",
       "      <td>2017-06-01</td>\n",
       "      <td>1</td>\n",
       "      <td>1043</td>\n",
       "      <td>13257</td>\n",
       "      <td>0.078675</td>\n",
       "    </tr>\n",
       "    <tr>\n",
       "      <td>2</td>\n",
       "      <td>2017-06-01</td>\n",
       "      <td>2</td>\n",
       "      <td>712</td>\n",
       "      <td>13257</td>\n",
       "      <td>0.053707</td>\n",
       "    </tr>\n",
       "    <tr>\n",
       "      <td>3</td>\n",
       "      <td>2017-06-01</td>\n",
       "      <td>3</td>\n",
       "      <td>814</td>\n",
       "      <td>13257</td>\n",
       "      <td>0.061402</td>\n",
       "    </tr>\n",
       "    <tr>\n",
       "      <td>4</td>\n",
       "      <td>2017-06-01</td>\n",
       "      <td>4</td>\n",
       "      <td>909</td>\n",
       "      <td>13257</td>\n",
       "      <td>0.068568</td>\n",
       "    </tr>\n",
       "    <tr>\n",
       "      <td>5</td>\n",
       "      <td>2017-06-01</td>\n",
       "      <td>5</td>\n",
       "      <td>947</td>\n",
       "      <td>13257</td>\n",
       "      <td>0.071434</td>\n",
       "    </tr>\n",
       "    <tr>\n",
       "      <td>6</td>\n",
       "      <td>2017-06-01</td>\n",
       "      <td>6</td>\n",
       "      <td>809</td>\n",
       "      <td>13257</td>\n",
       "      <td>0.061024</td>\n",
       "    </tr>\n",
       "    <tr>\n",
       "      <td>7</td>\n",
       "      <td>2017-06-01</td>\n",
       "      <td>7</td>\n",
       "      <td>766</td>\n",
       "      <td>13257</td>\n",
       "      <td>0.057781</td>\n",
       "    </tr>\n",
       "    <tr>\n",
       "      <td>8</td>\n",
       "      <td>2017-06-01</td>\n",
       "      <td>8</td>\n",
       "      <td>694</td>\n",
       "      <td>13257</td>\n",
       "      <td>0.052350</td>\n",
       "    </tr>\n",
       "    <tr>\n",
       "      <td>9</td>\n",
       "      <td>2017-06-01</td>\n",
       "      <td>9</td>\n",
       "      <td>674</td>\n",
       "      <td>13257</td>\n",
       "      <td>0.050841</td>\n",
       "    </tr>\n",
       "    <tr>\n",
       "      <td>10</td>\n",
       "      <td>2017-06-01</td>\n",
       "      <td>10</td>\n",
       "      <td>539</td>\n",
       "      <td>13257</td>\n",
       "      <td>0.040658</td>\n",
       "    </tr>\n",
       "  </tbody>\n",
       "</table>\n",
       "</div>"
      ],
      "text/plain": [
       "   first_activity_month  cohort_lifetime  all_users  cohort_users  retention\n",
       "1            2017-06-01                1       1043         13257   0.078675\n",
       "2            2017-06-01                2        712         13257   0.053707\n",
       "3            2017-06-01                3        814         13257   0.061402\n",
       "4            2017-06-01                4        909         13257   0.068568\n",
       "5            2017-06-01                5        947         13257   0.071434\n",
       "6            2017-06-01                6        809         13257   0.061024\n",
       "7            2017-06-01                7        766         13257   0.057781\n",
       "8            2017-06-01                8        694         13257   0.052350\n",
       "9            2017-06-01                9        674         13257   0.050841\n",
       "10           2017-06-01               10        539         13257   0.040658"
      ]
     },
     "execution_count": 14,
     "metadata": {},
     "output_type": "execute_result"
    }
   ],
   "source": [
    "lifetime = cohorts[cohorts['cohort_lifetime'] == 0]\n",
    "\n",
    "initial_users = lifetime[['first_activity_month','uid']]\n",
    "initial_users = initial_users.rename(columns={'uid': 'cohort_users'})\n",
    "\n",
    "cohorts = cohorts.merge(initial_users, on='first_activity_month')\n",
    "cohorts.rename(columns={'uid': 'all_users'}, inplace=True)\n",
    "cohorts['retention'] = cohorts['all_users'] / cohorts['cohort_users']\n",
    "cohorts = cohorts.query('cohort_lifetime != 0')\n",
    "cohorts.head(10)"
   ]
  },
  {
   "cell_type": "code",
   "execution_count": 15,
   "metadata": {},
   "outputs": [
    {
     "data": {
      "text/plain": [
       "<matplotlib.axes._subplots.AxesSubplot at 0x7fd7f2a0ded0>"
      ]
     },
     "execution_count": 15,
     "metadata": {},
     "output_type": "execute_result"
    },
    {
     "data": {
      "image/png": "[encoded data removed]",
      "text/plain": [
       "<Figure size 936x648 with 2 Axes>"
      ]
     },
     "metadata": {},
     "output_type": "display_data"
    }
   ],
   "source": [
    "import seaborn as sns\n",
    "from matplotlib import pyplot as plt\n",
    "\n",
    "\n",
    "retention_pivot = cohorts.pivot_table(index='first_activity_month', columns='cohort_lifetime', values='retention', aggfunc='sum')\n",
    "sns.set(style='white')\n",
    "plt.figure(figsize=(13, 9))\n",
    "plt.title('Коэффициент удержания для пользователей разных когорт')\n",
    "sns.heatmap(retention_pivot, annot=True, fmt='.1%', linewidths=1, linecolor='gray', center=0)"
   ]
  },
  {
   "cell_type": "markdown",
   "metadata": {},
   "source": [
    "Коэффициент удержания крайне низкий для всех когорт независимо от времени жизни. Как правило, коэффициент находится между 2% и 10%. Таким образом, можно с уверенностью утверждать, что пользователи редко возвращаются на сайт после первого посещения."
   ]
  },
  {
   "cell_type": "code",
   "execution_count": 16,
   "metadata": {},
   "outputs": [
    {
     "name": "stdout",
     "output_type": "stream",
     "text": [
      "Средний коэффициент удержания за первый месяц равен 6.5%\n"
     ]
    }
   ],
   "source": [
    "mean_retention = retention_pivot.mean(axis=0)[1]\n",
    "print('Средний коэффициент удержания за первый месяц равен {:.1%}'.format(mean_retention))"
   ]
  },
  {
   "cell_type": "code",
   "execution_count": 17,
   "metadata": {},
   "outputs": [
    {
     "data": {
      "text/html": [
       "<div>\n",
       "<style scoped>\n",
       "    .dataframe tbody tr th:only-of-type {\n",
       "        vertical-align: middle;\n",
       "    }\n",
       "\n",
       "    .dataframe tbody tr th {\n",
       "        vertical-align: top;\n",
       "    }\n",
       "\n",
       "    .dataframe thead th {\n",
       "        text-align: right;\n",
       "    }\n",
       "</style>\n",
       "<table border=\"1\" class=\"dataframe\">\n",
       "  <thead>\n",
       "    <tr style=\"text-align: right;\">\n",
       "      <th></th>\n",
       "      <th>cohort_lifetime</th>\n",
       "      <th>first_source</th>\n",
       "      <th>all_users</th>\n",
       "      <th>cohort_users</th>\n",
       "      <th>retention</th>\n",
       "    </tr>\n",
       "  </thead>\n",
       "  <tbody>\n",
       "    <tr>\n",
       "      <td>7</td>\n",
       "      <td>1</td>\n",
       "      <td>1</td>\n",
       "      <td>954</td>\n",
       "      <td>9470</td>\n",
       "      <td>0.100739</td>\n",
       "    </tr>\n",
       "    <tr>\n",
       "      <td>8</td>\n",
       "      <td>1</td>\n",
       "      <td>2</td>\n",
       "      <td>1681</td>\n",
       "      <td>17617</td>\n",
       "      <td>0.095419</td>\n",
       "    </tr>\n",
       "    <tr>\n",
       "      <td>9</td>\n",
       "      <td>1</td>\n",
       "      <td>3</td>\n",
       "      <td>4002</td>\n",
       "      <td>66116</td>\n",
       "      <td>0.060530</td>\n",
       "    </tr>\n",
       "    <tr>\n",
       "      <td>10</td>\n",
       "      <td>1</td>\n",
       "      <td>4</td>\n",
       "      <td>3913</td>\n",
       "      <td>72347</td>\n",
       "      <td>0.054087</td>\n",
       "    </tr>\n",
       "    <tr>\n",
       "      <td>11</td>\n",
       "      <td>1</td>\n",
       "      <td>5</td>\n",
       "      <td>2167</td>\n",
       "      <td>49238</td>\n",
       "      <td>0.044011</td>\n",
       "    </tr>\n",
       "  </tbody>\n",
       "</table>\n",
       "</div>"
      ],
      "text/plain": [
       "    cohort_lifetime  first_source  all_users  cohort_users  retention\n",
       "7                 1             1        954          9470   0.100739\n",
       "8                 1             2       1681         17617   0.095419\n",
       "9                 1             3       4002         66116   0.060530\n",
       "10                1             4       3913         72347   0.054087\n",
       "11                1             5       2167         49238   0.044011"
      ]
     },
     "execution_count": 17,
     "metadata": {},
     "output_type": "execute_result"
    }
   ],
   "source": [
    "users = (visits.sort_values(by = ['uid', 'start_ts'])\n",
    "               .groupby('uid')\n",
    "               .agg({'start_ts' : 'first', 'source_id': 'first', 'device': 'first'})\n",
    "               .rename(columns = {'start_ts' : 'acquisition_ts'}))\n",
    "\n",
    "users = users.rename(columns={'device': 'first_device', 'source_id': 'first_source'}).reset_index()\n",
    "visits_for_retention = visits.merge(users, on='uid')\n",
    "visits_for_retention = (visits_for_retention\n",
    "                        .groupby(['cohort_lifetime', 'first_source'])\n",
    "                        .agg({'uid': 'nunique'})\n",
    "                        .reset_index())\n",
    "cohort_users = visits_for_retention.query('cohort_lifetime == 0')[['uid', 'first_source']].rename(columns={'uid': 'cohort_users'})\n",
    "visits_for_retention = visits_for_retention.merge(cohort_users, on=['first_source'], how='left').rename(columns={'uid': 'all_users'})\n",
    "visits_for_retention['retention'] = visits_for_retention['all_users'] / visits_for_retention['cohort_users']\n",
    "visits_for_retention = visits_for_retention.query('cohort_lifetime !=0')\n",
    "visits_for_retention.head()"
   ]
  },
  {
   "cell_type": "code",
   "execution_count": 18,
   "metadata": {},
   "outputs": [
    {
     "data": {
      "text/plain": [
       "<matplotlib.axes._subplots.AxesSubplot at 0x7fd7dfa55890>"
      ]
     },
     "execution_count": 18,
     "metadata": {},
     "output_type": "execute_result"
    },
    {
     "data": {
      "image/png": "[encoded data removed]",
      "text/plain": [
       "<Figure size 936x504 with 2 Axes>"
      ]
     },
     "metadata": {},
     "output_type": "display_data"
    }
   ],
   "source": [
    "retention_by_source_pivot = visits_for_retention.pivot_table(index='first_source', columns='cohort_lifetime', values='retention', aggfunc='sum')\n",
    "sns.set(style='white')\n",
    "plt.figure(figsize=(13, 7))\n",
    "plt.title('Коэффициент удержания для пользователей по источникам')\n",
    "sns.heatmap(retention_by_source_pivot, annot=True, fmt='.1%', linewidths=1, linecolor='gray', center=0)"
   ]
  },
  {
   "cell_type": "markdown",
   "metadata": {},
   "source": [
    "Из всех источников самый высокий коэффициент удержания у источников 1,2 и 9."
   ]
  },
  {
   "cell_type": "code",
   "execution_count": 19,
   "metadata": {},
   "outputs": [
    {
     "data": {
      "text/html": [
       "<div>\n",
       "<style scoped>\n",
       "    .dataframe tbody tr th:only-of-type {\n",
       "        vertical-align: middle;\n",
       "    }\n",
       "\n",
       "    .dataframe tbody tr th {\n",
       "        vertical-align: top;\n",
       "    }\n",
       "\n",
       "    .dataframe thead th {\n",
       "        text-align: right;\n",
       "    }\n",
       "</style>\n",
       "<table border=\"1\" class=\"dataframe\">\n",
       "  <thead>\n",
       "    <tr style=\"text-align: right;\">\n",
       "      <th></th>\n",
       "      <th>cohort_lifetime</th>\n",
       "      <th>first_device</th>\n",
       "      <th>all_users</th>\n",
       "      <th>cohort_users</th>\n",
       "      <th>retention</th>\n",
       "    </tr>\n",
       "  </thead>\n",
       "  <tbody>\n",
       "    <tr>\n",
       "      <td>2</td>\n",
       "      <td>1</td>\n",
       "      <td>desktop</td>\n",
       "      <td>10015</td>\n",
       "      <td>160773</td>\n",
       "      <td>0.062293</td>\n",
       "    </tr>\n",
       "    <tr>\n",
       "      <td>3</td>\n",
       "      <td>1</td>\n",
       "      <td>touch</td>\n",
       "      <td>3799</td>\n",
       "      <td>67366</td>\n",
       "      <td>0.056393</td>\n",
       "    </tr>\n",
       "    <tr>\n",
       "      <td>4</td>\n",
       "      <td>2</td>\n",
       "      <td>desktop</td>\n",
       "      <td>6465</td>\n",
       "      <td>160773</td>\n",
       "      <td>0.040212</td>\n",
       "    </tr>\n",
       "    <tr>\n",
       "      <td>5</td>\n",
       "      <td>2</td>\n",
       "      <td>touch</td>\n",
       "      <td>2247</td>\n",
       "      <td>67366</td>\n",
       "      <td>0.033355</td>\n",
       "    </tr>\n",
       "    <tr>\n",
       "      <td>6</td>\n",
       "      <td>3</td>\n",
       "      <td>desktop</td>\n",
       "      <td>5191</td>\n",
       "      <td>160773</td>\n",
       "      <td>0.032288</td>\n",
       "    </tr>\n",
       "  </tbody>\n",
       "</table>\n",
       "</div>"
      ],
      "text/plain": [
       "   cohort_lifetime first_device  all_users  cohort_users  retention\n",
       "2                1      desktop      10015        160773   0.062293\n",
       "3                1        touch       3799         67366   0.056393\n",
       "4                2      desktop       6465        160773   0.040212\n",
       "5                2        touch       2247         67366   0.033355\n",
       "6                3      desktop       5191        160773   0.032288"
      ]
     },
     "execution_count": 19,
     "metadata": {},
     "output_type": "execute_result"
    }
   ],
   "source": [
    "visits_for_retention_new = visits.merge(users, on='uid')\n",
    "visits_for_retention_new = (visits_for_retention_new\n",
    "                        .groupby(['cohort_lifetime', 'first_device'])\n",
    "                        .agg({'uid': 'nunique'})\n",
    "                        .reset_index())\n",
    "cohort_users = visits_for_retention_new.query('cohort_lifetime == 0')[['uid', 'first_device']].rename(columns={'uid': 'cohort_users'})\n",
    "visits_for_retention_new = visits_for_retention_new.merge(cohort_users, on=['first_device'], how='left').rename(columns={'uid': 'all_users'})\n",
    "visits_for_retention_new['retention'] = visits_for_retention_new['all_users'] / visits_for_retention_new['cohort_users']\n",
    "visits_for_retention_new = visits_for_retention_new.query('cohort_lifetime != 0')\n",
    "visits_for_retention_new.head()"
   ]
  },
  {
   "cell_type": "code",
   "execution_count": 20,
   "metadata": {},
   "outputs": [
    {
     "data": {
      "text/plain": [
       "<matplotlib.axes._subplots.AxesSubplot at 0x7fd7de403190>"
      ]
     },
     "execution_count": 20,
     "metadata": {},
     "output_type": "execute_result"
    },
    {
     "data": {
      "image/png": "[encoded data removed]",
      "text/plain": [
       "<Figure size 936x216 with 2 Axes>"
      ]
     },
     "metadata": {},
     "output_type": "display_data"
    }
   ],
   "source": [
    "retention_by_device_pivot = visits_for_retention_new.pivot_table(index='first_device', columns='cohort_lifetime', values='retention', aggfunc='sum')\n",
    "sns.set(style='white')\n",
    "plt.figure(figsize=(13, 3))\n",
    "plt.title('Коэффициент удержания для пользователей по устройствам')\n",
    "sns.heatmap(retention_by_device_pivot, annot=True, fmt='.1%', linewidths=1, linecolor='gray', center=0)"
   ]
  },
  {
   "cell_type": "markdown",
   "metadata": {},
   "source": [
    "Коэффициент удержания с мобильных устройств и ПК не сильно отличается. Однако пользователи ПК всё же возвращаются сравнительно чаще."
   ]
  },
  {
   "cell_type": "markdown",
   "metadata": {},
   "source": [
    "### Продажи\n",
    "#### Когда люди начинают покупать?"
   ]
  },
  {
   "cell_type": "code",
   "execution_count": 21,
   "metadata": {},
   "outputs": [
    {
     "data": {
      "text/plain": [
       "<matplotlib.axes._subplots.AxesSubplot at 0x7fd7c8f42210>"
      ]
     },
     "execution_count": 21,
     "metadata": {},
     "output_type": "execute_result"
    },
    {
     "data": {
      "image/png": "[encoded data removed]",
      "text/plain": [
       "<Figure size 432x288 with 1 Axes>"
      ]
     },
     "metadata": {},
     "output_type": "display_data"
    }
   ],
   "source": [
    "first_purchase_date = orders.groupby('uid').agg({'buy ts': 'min'}).reset_index()\n",
    "first_purchase_date['buy ts'] = first_purchase_date['buy ts']\n",
    "first_purchase_date.columns = ['uid', 'first_purchase_ts']\n",
    "#print(orders_by_uid)\n",
    "first_activity_and_purchase = first_purchase_date.merge(first_activity_date, on='uid')\n",
    "\n",
    "first_activity_and_purchase['conversion_period'] = first_activity_and_purchase['first_purchase_ts'] - first_activity_and_purchase['first_activity_date']\n",
    "first_activity_and_purchase['conversion_period'] = first_activity_and_purchase['conversion_period'] / np.timedelta64(1,'D')\n",
    "first_activity_and_purchase['conversion_period'] = first_activity_and_purchase['conversion_period'].astype('int')\n",
    "\n",
    "conversion_pivot = first_activity_and_purchase.pivot_table(index='conversion_period', values='uid', aggfunc='count').reset_index()\n",
    "conversion_pivot.columns = ['conversion_period', 'number_of_buyers']\n",
    "conversion_pivot = conversion_pivot[conversion_pivot['number_of_buyers'] > 1]\n",
    "conversion_pivot.head(10).plot(kind='bar', x='conversion_period', y='number_of_buyers', title='Период времени, прошедший между первым визитом и покупкой (в днях)')"
   ]
  },
  {
   "cell_type": "markdown",
   "metadata": {},
   "source": [
    "На графике видно, что абсолютное большинство пользователей совершают покупки в первый же день посещения сайта."
   ]
  },
  {
   "cell_type": "code",
   "execution_count": 22,
   "metadata": {},
   "outputs": [
    {
     "data": {
      "text/plain": [
       "<matplotlib.axes._subplots.AxesSubplot at 0x7fd7c8ec1e50>"
      ]
     },
     "execution_count": 22,
     "metadata": {},
     "output_type": "execute_result"
    },
    {
     "data": {
      "image/png": "[encoded data removed]",
      "text/plain": [
       "<Figure size 432x288 with 1 Axes>"
      ]
     },
     "metadata": {},
     "output_type": "display_data"
    }
   ],
   "source": [
    "activity_info = visits[['uid', 'first_activity_date', 'start_ts']]\n",
    "activity_info = activity_info.merge(first_purchase_date, on='uid')\n",
    "\n",
    "activity_info = activity_info.query('first_purchase_ts >= start_ts')\n",
    "sessions_count = activity_info.groupby(['uid', 'first_purchase_ts']).agg({'start_ts': 'count'}).reset_index()\n",
    "sessions_count['start_ts'].plot.hist(xlim=(1,10), bins=200, title='Количество сессий перед покупкой')"
   ]
  },
  {
   "cell_type": "markdown",
   "metadata": {},
   "source": [
    "Абсолютное большинство пользователей покупают в течение 1 сессии. Однако часть посетителей покупает в течение 2 сессии."
   ]
  },
  {
   "cell_type": "markdown",
   "metadata": {},
   "source": [
    "#### Сколько раз покупают за период?"
   ]
  },
  {
   "cell_type": "code",
   "execution_count": 23,
   "metadata": {},
   "outputs": [
    {
     "data": {
      "text/plain": [
       "<matplotlib.axes._subplots.AxesSubplot at 0x7fd7c8bd6850>"
      ]
     },
     "execution_count": 23,
     "metadata": {},
     "output_type": "execute_result"
    },
    {
     "data": {
      "image/png": "[encoded data removed]",
      "text/plain": [
       "<Figure size 432x288 with 1 Axes>"
      ]
     },
     "metadata": {},
     "output_type": "display_data"
    }
   ],
   "source": [
    "orders['month'] = orders['buy ts'].astype('datetime64[M]')\n",
    "\n",
    "limit = np.datetime64('2018-06-01')\n",
    "orders = orders.query('month != @limit')\n",
    "\n",
    "orders_grouped_by_month = orders.groupby('month').agg({'uid': 'count'})\n",
    "\n",
    "orders_grouped_by_month.plot(title='Количество покупок, совершённых за каждый месяц \\nв период с июня 2017 по май 2018 года')"
   ]
  },
  {
   "cell_type": "markdown",
   "metadata": {},
   "source": [
    "В месяц пользователи совершают от 2000 до 6000 покупок в зависимости от сезона. Больше всего покупок пришлось на период с октября на декабрь."
   ]
  },
  {
   "cell_type": "code",
   "execution_count": 24,
   "metadata": {},
   "outputs": [
    {
     "name": "stdout",
     "output_type": "stream",
     "text": [
      "В среднем один пользователь совершает 1.4 покупок\n"
     ]
    }
   ],
   "source": [
    "orders_by_user = orders.groupby('uid')['revenue'].count()\n",
    "print('В среднем один пользователь совершает {:.1f} покупок'.format(orders_by_user.mean()))"
   ]
  },
  {
   "cell_type": "markdown",
   "metadata": {},
   "source": [
    "#### Какой средний чек?"
   ]
  },
  {
   "cell_type": "code",
   "execution_count": 25,
   "metadata": {},
   "outputs": [
    {
     "name": "stdout",
     "output_type": "stream",
     "text": [
      "Средний чек для одной покупки 5.00\n"
     ]
    }
   ],
   "source": [
    "mean_revenue = orders['revenue'].mean()\n",
    "print('Средний чек для одной покупки {:.2f}'.format(mean_revenue))"
   ]
  },
  {
   "cell_type": "markdown",
   "metadata": {},
   "source": [
    "#### Сколько денег приносят? (LTV)"
   ]
  },
  {
   "cell_type": "code",
   "execution_count": 26,
   "metadata": {},
   "outputs": [],
   "source": [
    "orders['order_month'] = orders['buy ts'].astype('datetime64[M]')\n",
    "\n",
    "first_orders = orders.groupby('uid').agg({'order_month': 'min'}).reset_index()\n",
    "first_orders.columns = ['uid', 'first_order_month']\n",
    "\n",
    "cohort_sizes = first_orders.groupby('first_order_month').agg({'uid': 'nunique'}).reset_index()\n",
    "cohort_sizes.columns = ['first_order_month', 'n_buyers']"
   ]
  },
  {
   "cell_type": "code",
   "execution_count": 27,
   "metadata": {},
   "outputs": [
    {
     "data": {
      "text/html": [
       "<div>\n",
       "<style scoped>\n",
       "    .dataframe tbody tr th:only-of-type {\n",
       "        vertical-align: middle;\n",
       "    }\n",
       "\n",
       "    .dataframe tbody tr th {\n",
       "        vertical-align: top;\n",
       "    }\n",
       "\n",
       "    .dataframe thead th {\n",
       "        text-align: right;\n",
       "    }\n",
       "</style>\n",
       "<table border=\"1\" class=\"dataframe\">\n",
       "  <thead>\n",
       "    <tr style=\"text-align: right;\">\n",
       "      <th>age</th>\n",
       "      <th>0</th>\n",
       "      <th>1</th>\n",
       "      <th>2</th>\n",
       "      <th>3</th>\n",
       "      <th>4</th>\n",
       "      <th>5</th>\n",
       "      <th>6</th>\n",
       "      <th>7</th>\n",
       "      <th>8</th>\n",
       "      <th>9</th>\n",
       "      <th>10</th>\n",
       "      <th>11</th>\n",
       "    </tr>\n",
       "    <tr>\n",
       "      <th>first_order_month</th>\n",
       "      <th></th>\n",
       "      <th></th>\n",
       "      <th></th>\n",
       "      <th></th>\n",
       "      <th></th>\n",
       "      <th></th>\n",
       "      <th></th>\n",
       "      <th></th>\n",
       "      <th></th>\n",
       "      <th></th>\n",
       "      <th></th>\n",
       "      <th></th>\n",
       "    </tr>\n",
       "  </thead>\n",
       "  <tbody>\n",
       "    <tr>\n",
       "      <td>2017-06-01</td>\n",
       "      <td>4.72</td>\n",
       "      <td>5.21</td>\n",
       "      <td>5.65</td>\n",
       "      <td>6.6</td>\n",
       "      <td>7.62</td>\n",
       "      <td>8.36</td>\n",
       "      <td>9.31</td>\n",
       "      <td>9.89</td>\n",
       "      <td>10.44</td>\n",
       "      <td>11.05</td>\n",
       "      <td>11.62</td>\n",
       "      <td>11.88</td>\n",
       "    </tr>\n",
       "    <tr>\n",
       "      <td>2017-07-01</td>\n",
       "      <td>6.01</td>\n",
       "      <td>6.35</td>\n",
       "      <td>6.97</td>\n",
       "      <td>7.33</td>\n",
       "      <td>7.51</td>\n",
       "      <td>7.67</td>\n",
       "      <td>7.79</td>\n",
       "      <td>7.93</td>\n",
       "      <td>8.09</td>\n",
       "      <td>8.24</td>\n",
       "      <td>8.4</td>\n",
       "      <td></td>\n",
       "    </tr>\n",
       "    <tr>\n",
       "      <td>2017-08-01</td>\n",
       "      <td>5.28</td>\n",
       "      <td>5.75</td>\n",
       "      <td>6.21</td>\n",
       "      <td>6.6</td>\n",
       "      <td>7.09</td>\n",
       "      <td>7.37</td>\n",
       "      <td>7.58</td>\n",
       "      <td>7.99</td>\n",
       "      <td>8.28</td>\n",
       "      <td>8.47</td>\n",
       "      <td></td>\n",
       "      <td></td>\n",
       "    </tr>\n",
       "    <tr>\n",
       "      <td>2017-09-01</td>\n",
       "      <td>5.64</td>\n",
       "      <td>6.76</td>\n",
       "      <td>7.28</td>\n",
       "      <td>11.26</td>\n",
       "      <td>11.66</td>\n",
       "      <td>12.31</td>\n",
       "      <td>13.01</td>\n",
       "      <td>13.25</td>\n",
       "      <td>13.43</td>\n",
       "      <td></td>\n",
       "      <td></td>\n",
       "      <td></td>\n",
       "    </tr>\n",
       "    <tr>\n",
       "      <td>2017-10-01</td>\n",
       "      <td>5.00</td>\n",
       "      <td>5.54</td>\n",
       "      <td>5.73</td>\n",
       "      <td>5.89</td>\n",
       "      <td>6.04</td>\n",
       "      <td>6.16</td>\n",
       "      <td>6.24</td>\n",
       "      <td>6.36</td>\n",
       "      <td></td>\n",
       "      <td></td>\n",
       "      <td></td>\n",
       "      <td></td>\n",
       "    </tr>\n",
       "    <tr>\n",
       "      <td>2017-11-01</td>\n",
       "      <td>5.15</td>\n",
       "      <td>5.55</td>\n",
       "      <td>5.75</td>\n",
       "      <td>6.07</td>\n",
       "      <td>6.22</td>\n",
       "      <td>6.27</td>\n",
       "      <td>6.38</td>\n",
       "      <td></td>\n",
       "      <td></td>\n",
       "      <td></td>\n",
       "      <td></td>\n",
       "      <td></td>\n",
       "    </tr>\n",
       "    <tr>\n",
       "      <td>2017-12-01</td>\n",
       "      <td>4.74</td>\n",
       "      <td>5</td>\n",
       "      <td>5.93</td>\n",
       "      <td>7</td>\n",
       "      <td>7.31</td>\n",
       "      <td>7.65</td>\n",
       "      <td></td>\n",
       "      <td></td>\n",
       "      <td></td>\n",
       "      <td></td>\n",
       "      <td></td>\n",
       "      <td></td>\n",
       "    </tr>\n",
       "    <tr>\n",
       "      <td>2018-01-01</td>\n",
       "      <td>4.14</td>\n",
       "      <td>4.43</td>\n",
       "      <td>4.73</td>\n",
       "      <td>4.87</td>\n",
       "      <td>4.93</td>\n",
       "      <td></td>\n",
       "      <td></td>\n",
       "      <td></td>\n",
       "      <td></td>\n",
       "      <td></td>\n",
       "      <td></td>\n",
       "      <td></td>\n",
       "    </tr>\n",
       "    <tr>\n",
       "      <td>2018-02-01</td>\n",
       "      <td>4.16</td>\n",
       "      <td>4.44</td>\n",
       "      <td>4.52</td>\n",
       "      <td>4.59</td>\n",
       "      <td></td>\n",
       "      <td></td>\n",
       "      <td></td>\n",
       "      <td></td>\n",
       "      <td></td>\n",
       "      <td></td>\n",
       "      <td></td>\n",
       "      <td></td>\n",
       "    </tr>\n",
       "    <tr>\n",
       "      <td>2018-03-01</td>\n",
       "      <td>4.84</td>\n",
       "      <td>5.14</td>\n",
       "      <td>5.46</td>\n",
       "      <td></td>\n",
       "      <td></td>\n",
       "      <td></td>\n",
       "      <td></td>\n",
       "      <td></td>\n",
       "      <td></td>\n",
       "      <td></td>\n",
       "      <td></td>\n",
       "      <td></td>\n",
       "    </tr>\n",
       "    <tr>\n",
       "      <td>2018-04-01</td>\n",
       "      <td>4.66</td>\n",
       "      <td>5.19</td>\n",
       "      <td></td>\n",
       "      <td></td>\n",
       "      <td></td>\n",
       "      <td></td>\n",
       "      <td></td>\n",
       "      <td></td>\n",
       "      <td></td>\n",
       "      <td></td>\n",
       "      <td></td>\n",
       "      <td></td>\n",
       "    </tr>\n",
       "    <tr>\n",
       "      <td>2018-05-01</td>\n",
       "      <td>4.66</td>\n",
       "      <td></td>\n",
       "      <td></td>\n",
       "      <td></td>\n",
       "      <td></td>\n",
       "      <td></td>\n",
       "      <td></td>\n",
       "      <td></td>\n",
       "      <td></td>\n",
       "      <td></td>\n",
       "      <td></td>\n",
       "      <td></td>\n",
       "    </tr>\n",
       "  </tbody>\n",
       "</table>\n",
       "</div>"
      ],
      "text/plain": [
       "age                  0     1     2      3      4      5      6      7      8   \\\n",
       "first_order_month                                                               \n",
       "2017-06-01         4.72  5.21  5.65    6.6   7.62   8.36   9.31   9.89  10.44   \n",
       "2017-07-01         6.01  6.35  6.97   7.33   7.51   7.67   7.79   7.93   8.09   \n",
       "2017-08-01         5.28  5.75  6.21    6.6   7.09   7.37   7.58   7.99   8.28   \n",
       "2017-09-01         5.64  6.76  7.28  11.26  11.66  12.31  13.01  13.25  13.43   \n",
       "2017-10-01         5.00  5.54  5.73   5.89   6.04   6.16   6.24   6.36          \n",
       "2017-11-01         5.15  5.55  5.75   6.07   6.22   6.27   6.38                 \n",
       "2017-12-01         4.74     5  5.93      7   7.31   7.65                        \n",
       "2018-01-01         4.14  4.43  4.73   4.87   4.93                               \n",
       "2018-02-01         4.16  4.44  4.52   4.59                                      \n",
       "2018-03-01         4.84  5.14  5.46                                             \n",
       "2018-04-01         4.66  5.19                                                   \n",
       "2018-05-01         4.66                                                         \n",
       "\n",
       "age                   9      10     11  \n",
       "first_order_month                       \n",
       "2017-06-01         11.05  11.62  11.88  \n",
       "2017-07-01          8.24    8.4         \n",
       "2017-08-01          8.47                \n",
       "2017-09-01                              \n",
       "2017-10-01                              \n",
       "2017-11-01                              \n",
       "2017-12-01                              \n",
       "2018-01-01                              \n",
       "2018-02-01                              \n",
       "2018-03-01                              \n",
       "2018-04-01                              \n",
       "2018-05-01                              "
      ]
     },
     "execution_count": 27,
     "metadata": {},
     "output_type": "execute_result"
    }
   ],
   "source": [
    "orders_first_month = pd.merge(orders,first_orders, on='uid')\n",
    "cohorts_new = orders_first_month.groupby(['first_order_month','order_month']).agg({'revenue': 'sum'}).reset_index()\n",
    "report = pd.merge(cohort_sizes, cohorts_new, on='first_order_month')\n",
    "\n",
    "report['gp'] = report['revenue']\n",
    "report['age'] = (report['order_month'] - report['first_order_month']) / np.timedelta64(1, 'M')\n",
    "report['age'] = report['age'].round().astype('int')\n",
    "\n",
    "report['ltv'] = report['gp'] / report['n_buyers']\n",
    "\n",
    "result = report.pivot_table(\n",
    "    index='first_order_month', \n",
    "    columns='age', \n",
    "    values='ltv', \n",
    "    aggfunc='mean').round(2)\n",
    "\n",
    "result = result.cumsum(axis=1).fillna('')\n",
    "result"
   ]
  },
  {
   "cell_type": "code",
   "execution_count": 28,
   "metadata": {},
   "outputs": [
    {
     "name": "stdout",
     "output_type": "stream",
     "text": [
      "Средний LTV за 6 месяцев равен 7.28\n"
     ]
    }
   ],
   "source": [
    "final_result = report.pivot_table(index='first_order_month', columns='age', values='ltv', aggfunc='mean')\n",
    "\n",
    "m6_cum_ltv = final_result.mean(axis=0).cumsum()[5]\n",
    "print('Средний LTV за 6 месяцев равен', m6_cum_ltv.round(2))"
   ]
  },
  {
   "cell_type": "markdown",
   "metadata": {},
   "source": [
    "### Маркетинг"
   ]
  },
  {
   "cell_type": "markdown",
   "metadata": {},
   "source": [
    "#### Сколько денег потратили? Всего / на каждый источник / по времени"
   ]
  },
  {
   "cell_type": "code",
   "execution_count": 29,
   "metadata": {},
   "outputs": [
    {
     "name": "stdout",
     "output_type": "stream",
     "text": [
      "Всего потрачено: 329131 рубль\n"
     ]
    }
   ],
   "source": [
    "print('Всего потрачено: {} рубль'.format(costs['costs'].sum().astype('int')))"
   ]
  },
  {
   "cell_type": "code",
   "execution_count": 30,
   "metadata": {},
   "outputs": [
    {
     "data": {
      "text/plain": [
       "<matplotlib.axes._subplots.AxesSubplot at 0x7fd7de3c9a50>"
      ]
     },
     "execution_count": 30,
     "metadata": {},
     "output_type": "execute_result"
    },
    {
     "data": {
      "image/png": "[encoded data removed]",
      "text/plain": [
       "<Figure size 432x288 with 1 Axes>"
      ]
     },
     "metadata": {},
     "output_type": "display_data"
    }
   ],
   "source": [
    "costs_by_source = costs.groupby('source_id').agg({'costs': 'sum'}).reset_index()\n",
    "costs_by_source.plot(kind='bar', x='source_id', y='costs', title='Распределение затрат по источникам')"
   ]
  },
  {
   "cell_type": "markdown",
   "metadata": {},
   "source": [
    "Около половины затрат пришлось на источник 3. Меньше всего маркетологи вложили в источники 9 и 10. "
   ]
  },
  {
   "cell_type": "code",
   "execution_count": 31,
   "metadata": {},
   "outputs": [
    {
     "data": {
      "text/plain": [
       "<matplotlib.axes._subplots.AxesSubplot at 0x7fd7c8b80290>"
      ]
     },
     "execution_count": 31,
     "metadata": {},
     "output_type": "execute_result"
    },
    {
     "data": {
      "image/png": "[encoded data removed]",
      "text/plain": [
       "<Figure size 432x288 with 1 Axes>"
      ]
     },
     "metadata": {},
     "output_type": "display_data"
    }
   ],
   "source": [
    "costs['month'] = costs['dt'].astype('datetime64[M]')\n",
    "costs_by_time = costs.groupby('month').agg({'costs': 'sum'}).reset_index()\n",
    "costs_by_time.plot(x='month', y='costs', title='Распределение затрат по времени')"
   ]
  },
  {
   "cell_type": "markdown",
   "metadata": {},
   "source": [
    "Меньше всего на маркетинг было потрачено в августе (около 15000). Больше всего - в декабре, более 35000.  Этот график коррелирует с графиком распределения покупок по времени: точки максимума и минимума, а также крутой подъём с августа по декабрь совпадают."
   ]
  },
  {
   "cell_type": "markdown",
   "metadata": {},
   "source": [
    "#### Сколько стоило привлечение одного покупателя из каждого источника?"
   ]
  },
  {
   "cell_type": "code",
   "execution_count": 32,
   "metadata": {},
   "outputs": [],
   "source": [
    "users = (visits.sort_values(by = ['uid', 'start_ts'])\n",
    "               .groupby('uid')\n",
    "               .agg({'start_ts' : 'first', 'source_id': 'first', 'device': 'first'})\n",
    "               .rename(columns = {'start_ts' : 'first_ts'})).reset_index()\n",
    "\n",
    "users['acquisition_date'] = users['first_ts'].dt.date\n",
    "users['acquisition_month'] = users['first_ts'].astype('datetime64[M]') \n",
    "\n",
    "costs = costs.rename(columns={'dt': 'acquisition_date'})\n",
    "\n",
    "orders_with_device_and_source = orders.merge(users, on='uid')[['uid', 'source_id', 'device', 'acquisition_date']]"
   ]
  },
  {
   "cell_type": "code",
   "execution_count": 33,
   "metadata": {},
   "outputs": [
    {
     "data": {
      "text/plain": [
       "<matplotlib.axes._subplots.AxesSubplot at 0x7fd7c8a7c7d0>"
      ]
     },
     "execution_count": 33,
     "metadata": {},
     "output_type": "execute_result"
    },
    {
     "data": {
      "image/png": "[encoded data removed]",
      "text/plain": [
       "<Figure size 432x288 with 1 Axes>"
      ]
     },
     "metadata": {},
     "output_type": "display_data"
    }
   ],
   "source": [
    "orders_by_source = orders_with_device_and_source.groupby('source_id').agg({'uid':'nunique'}).reset_index()\n",
    "orders_by_source.columns = ['source_id','n_buyers']\n",
    "\n",
    "source_orders_and_costs = pd.merge(orders_by_source, costs_by_source, on='source_id')\n",
    "source_orders_and_costs['cac'] = source_orders_and_costs['costs'] / source_orders_and_costs['n_buyers']\n",
    "\n",
    "source_orders_and_costs.plot(kind='bar', x='source_id', y='cac', title='Распределение САС по источникам')"
   ]
  },
  {
   "cell_type": "markdown",
   "metadata": {},
   "source": [
    "Стоимость привлечения покупателей выше всего у источника 3. Самая низкая САС у источника 10."
   ]
  },
  {
   "cell_type": "code",
   "execution_count": 34,
   "metadata": {},
   "outputs": [
    {
     "name": "stdout",
     "output_type": "stream",
     "text": [
      "Средняя стоимость привлечения одного покупателя равна 9.01\n"
     ]
    }
   ],
   "source": [
    "total_costs = costs['costs'].sum()\n",
    "total_users = orders['uid'].nunique()\n",
    "mean_cost_per_user = total_costs / total_users\n",
    "print('Средняя стоимость привлечения одного покупателя равна', mean_cost_per_user.round(2))"
   ]
  },
  {
   "cell_type": "code",
   "execution_count": 37,
   "metadata": {},
   "outputs": [
    {
     "data": {
      "text/html": [
       "<div>\n",
       "<style scoped>\n",
       "    .dataframe tbody tr th:only-of-type {\n",
       "        vertical-align: middle;\n",
       "    }\n",
       "\n",
       "    .dataframe tbody tr th {\n",
       "        vertical-align: top;\n",
       "    }\n",
       "\n",
       "    .dataframe thead th {\n",
       "        text-align: right;\n",
       "    }\n",
       "</style>\n",
       "<table border=\"1\" class=\"dataframe\">\n",
       "  <thead>\n",
       "    <tr style=\"text-align: right;\">\n",
       "      <th></th>\n",
       "      <th>source_id</th>\n",
       "      <th>acquisition_date</th>\n",
       "      <th>users</th>\n",
       "      <th>costs</th>\n",
       "    </tr>\n",
       "  </thead>\n",
       "  <tbody>\n",
       "    <tr>\n",
       "      <td>0</td>\n",
       "      <td>1</td>\n",
       "      <td>2017-06-01</td>\n",
       "      <td>24</td>\n",
       "      <td>75.20</td>\n",
       "    </tr>\n",
       "    <tr>\n",
       "      <td>1</td>\n",
       "      <td>1</td>\n",
       "      <td>2017-06-02</td>\n",
       "      <td>12</td>\n",
       "      <td>62.25</td>\n",
       "    </tr>\n",
       "    <tr>\n",
       "      <td>2</td>\n",
       "      <td>1</td>\n",
       "      <td>2017-06-03</td>\n",
       "      <td>8</td>\n",
       "      <td>36.53</td>\n",
       "    </tr>\n",
       "    <tr>\n",
       "      <td>3</td>\n",
       "      <td>1</td>\n",
       "      <td>2017-06-04</td>\n",
       "      <td>6</td>\n",
       "      <td>55.00</td>\n",
       "    </tr>\n",
       "    <tr>\n",
       "      <td>4</td>\n",
       "      <td>1</td>\n",
       "      <td>2017-06-05</td>\n",
       "      <td>20</td>\n",
       "      <td>57.08</td>\n",
       "    </tr>\n",
       "  </tbody>\n",
       "</table>\n",
       "</div>"
      ],
      "text/plain": [
       "   source_id acquisition_date  users  costs\n",
       "0          1       2017-06-01     24  75.20\n",
       "1          1       2017-06-02     12  62.25\n",
       "2          1       2017-06-03      8  36.53\n",
       "3          1       2017-06-04      6  55.00\n",
       "4          1       2017-06-05     20  57.08"
      ]
     },
     "execution_count": 37,
     "metadata": {},
     "output_type": "execute_result"
    }
   ],
   "source": [
    "#группируем таблицу для объединения с затратами\n",
    "orders_with_source = (orders_with_device_and_source\n",
    "                            .set_index(['source_id', 'acquisition_date'])\n",
    "                            .join(costs.set_index(['source_id', 'acquisition_date']), how = 'left')\n",
    "                            .reset_index())\n",
    "\n",
    "#добавляем стоимость приобретения индивидуального пользователя\n",
    "costs_by_date = (orders_with_source\n",
    "                                    .groupby(['source_id', 'acquisition_date'])\n",
    "                                    .agg({'uid': 'nunique', 'costs': 'max'})\n",
    "                                    .rename(columns = {'uid': 'users'})\n",
    "                                    .reset_index())\n",
    "costs_by_date.head()"
   ]
  },
  {
   "cell_type": "code",
   "execution_count": 38,
   "metadata": {},
   "outputs": [
    {
     "data": {
      "text/html": [
       "<div>\n",
       "<style scoped>\n",
       "    .dataframe tbody tr th:only-of-type {\n",
       "        vertical-align: middle;\n",
       "    }\n",
       "\n",
       "    .dataframe tbody tr th {\n",
       "        vertical-align: top;\n",
       "    }\n",
       "\n",
       "    .dataframe thead th {\n",
       "        text-align: right;\n",
       "    }\n",
       "</style>\n",
       "<table border=\"1\" class=\"dataframe\">\n",
       "  <thead>\n",
       "    <tr style=\"text-align: right;\">\n",
       "      <th></th>\n",
       "      <th>acqusition_cost</th>\n",
       "    </tr>\n",
       "    <tr>\n",
       "      <th>device</th>\n",
       "      <th></th>\n",
       "    </tr>\n",
       "  </thead>\n",
       "  <tbody>\n",
       "    <tr>\n",
       "      <td>desktop</td>\n",
       "      <td>8.88</td>\n",
       "    </tr>\n",
       "    <tr>\n",
       "      <td>touch</td>\n",
       "      <td>8.68</td>\n",
       "    </tr>\n",
       "  </tbody>\n",
       "</table>\n",
       "</div>"
      ],
      "text/plain": [
       "         acqusition_cost\n",
       "device                  \n",
       "desktop             8.88\n",
       "touch               8.68"
      ]
     },
     "execution_count": 38,
     "metadata": {},
     "output_type": "execute_result"
    }
   ],
   "source": [
    "#CAC по устройствам\n",
    "costs_by_date['acqusition_cost'] = costs_by_date['costs'] / costs_by_date['users']\n",
    "\n",
    "orders_with_source = orders_with_source.merge(costs_by_date,\n",
    "                                    on=['source_id', 'acquisition_date'], how='left').reset_index(drop=True)\n",
    "                                 \n",
    "cac_by_device = (orders_with_source.groupby('device')\n",
    "                 .agg({'acqusition_cost': 'mean'})\n",
    "                 .round(2))\n",
    "cac_by_device"
   ]
  },
  {
   "cell_type": "markdown",
   "metadata": {},
   "source": [
    "CAC для мобильного устройства выше, чем для ПК. Однако разница небольшая."
   ]
  },
  {
   "cell_type": "markdown",
   "metadata": {},
   "source": [
    "#### На сколько окупились расходы? (ROI)"
   ]
  },
  {
   "cell_type": "code",
   "execution_count": 39,
   "metadata": {},
   "outputs": [
    {
     "data": {
      "text/html": [
       "<div>\n",
       "<style scoped>\n",
       "    .dataframe tbody tr th:only-of-type {\n",
       "        vertical-align: middle;\n",
       "    }\n",
       "\n",
       "    .dataframe tbody tr th {\n",
       "        vertical-align: top;\n",
       "    }\n",
       "\n",
       "    .dataframe thead th {\n",
       "        text-align: right;\n",
       "    }\n",
       "</style>\n",
       "<table border=\"1\" class=\"dataframe\">\n",
       "  <thead>\n",
       "    <tr style=\"text-align: right;\">\n",
       "      <th>age</th>\n",
       "      <th>0</th>\n",
       "      <th>1</th>\n",
       "      <th>2</th>\n",
       "      <th>3</th>\n",
       "      <th>4</th>\n",
       "      <th>5</th>\n",
       "      <th>6</th>\n",
       "      <th>7</th>\n",
       "      <th>8</th>\n",
       "      <th>9</th>\n",
       "      <th>10</th>\n",
       "      <th>11</th>\n",
       "    </tr>\n",
       "    <tr>\n",
       "      <th>first_order_month</th>\n",
       "      <th></th>\n",
       "      <th></th>\n",
       "      <th></th>\n",
       "      <th></th>\n",
       "      <th></th>\n",
       "      <th></th>\n",
       "      <th></th>\n",
       "      <th></th>\n",
       "      <th></th>\n",
       "      <th></th>\n",
       "      <th></th>\n",
       "      <th></th>\n",
       "    </tr>\n",
       "  </thead>\n",
       "  <tbody>\n",
       "    <tr>\n",
       "      <td>2017-06-01</td>\n",
       "      <td>0.52</td>\n",
       "      <td>0.57</td>\n",
       "      <td>0.62</td>\n",
       "      <td>0.73</td>\n",
       "      <td>0.84</td>\n",
       "      <td>0.92</td>\n",
       "      <td>1.03</td>\n",
       "      <td>1.09</td>\n",
       "      <td>1.15</td>\n",
       "      <td>1.22</td>\n",
       "      <td>1.28</td>\n",
       "      <td>1.31</td>\n",
       "    </tr>\n",
       "    <tr>\n",
       "      <td>2017-07-01</td>\n",
       "      <td>0.67</td>\n",
       "      <td>0.71</td>\n",
       "      <td>0.78</td>\n",
       "      <td>0.82</td>\n",
       "      <td>0.84</td>\n",
       "      <td>0.86</td>\n",
       "      <td>0.87</td>\n",
       "      <td>0.89</td>\n",
       "      <td>0.91</td>\n",
       "      <td>0.93</td>\n",
       "      <td>0.95</td>\n",
       "      <td></td>\n",
       "    </tr>\n",
       "    <tr>\n",
       "      <td>2017-08-01</td>\n",
       "      <td>0.59</td>\n",
       "      <td>0.64</td>\n",
       "      <td>0.69</td>\n",
       "      <td>0.73</td>\n",
       "      <td>0.78</td>\n",
       "      <td>0.81</td>\n",
       "      <td>0.83</td>\n",
       "      <td>0.87</td>\n",
       "      <td>0.9</td>\n",
       "      <td>0.92</td>\n",
       "      <td></td>\n",
       "      <td></td>\n",
       "    </tr>\n",
       "    <tr>\n",
       "      <td>2017-09-01</td>\n",
       "      <td>0.63</td>\n",
       "      <td>0.75</td>\n",
       "      <td>0.81</td>\n",
       "      <td>1.25</td>\n",
       "      <td>1.29</td>\n",
       "      <td>1.36</td>\n",
       "      <td>1.44</td>\n",
       "      <td>1.47</td>\n",
       "      <td>1.49</td>\n",
       "      <td></td>\n",
       "      <td></td>\n",
       "      <td></td>\n",
       "    </tr>\n",
       "    <tr>\n",
       "      <td>2017-10-01</td>\n",
       "      <td>0.56</td>\n",
       "      <td>0.62</td>\n",
       "      <td>0.64</td>\n",
       "      <td>0.66</td>\n",
       "      <td>0.68</td>\n",
       "      <td>0.69</td>\n",
       "      <td>0.7</td>\n",
       "      <td>0.71</td>\n",
       "      <td></td>\n",
       "      <td></td>\n",
       "      <td></td>\n",
       "      <td></td>\n",
       "    </tr>\n",
       "    <tr>\n",
       "      <td>2017-11-01</td>\n",
       "      <td>0.57</td>\n",
       "      <td>0.61</td>\n",
       "      <td>0.63</td>\n",
       "      <td>0.67</td>\n",
       "      <td>0.69</td>\n",
       "      <td>0.7</td>\n",
       "      <td>0.71</td>\n",
       "      <td></td>\n",
       "      <td></td>\n",
       "      <td></td>\n",
       "      <td></td>\n",
       "      <td></td>\n",
       "    </tr>\n",
       "    <tr>\n",
       "      <td>2017-12-01</td>\n",
       "      <td>0.53</td>\n",
       "      <td>0.56</td>\n",
       "      <td>0.66</td>\n",
       "      <td>0.78</td>\n",
       "      <td>0.81</td>\n",
       "      <td>0.85</td>\n",
       "      <td></td>\n",
       "      <td></td>\n",
       "      <td></td>\n",
       "      <td></td>\n",
       "      <td></td>\n",
       "      <td></td>\n",
       "    </tr>\n",
       "    <tr>\n",
       "      <td>2018-01-01</td>\n",
       "      <td>0.46</td>\n",
       "      <td>0.49</td>\n",
       "      <td>0.52</td>\n",
       "      <td>0.54</td>\n",
       "      <td>0.55</td>\n",
       "      <td></td>\n",
       "      <td></td>\n",
       "      <td></td>\n",
       "      <td></td>\n",
       "      <td></td>\n",
       "      <td></td>\n",
       "      <td></td>\n",
       "    </tr>\n",
       "    <tr>\n",
       "      <td>2018-02-01</td>\n",
       "      <td>0.46</td>\n",
       "      <td>0.49</td>\n",
       "      <td>0.5</td>\n",
       "      <td>0.51</td>\n",
       "      <td></td>\n",
       "      <td></td>\n",
       "      <td></td>\n",
       "      <td></td>\n",
       "      <td></td>\n",
       "      <td></td>\n",
       "      <td></td>\n",
       "      <td></td>\n",
       "    </tr>\n",
       "    <tr>\n",
       "      <td>2018-03-01</td>\n",
       "      <td>0.54</td>\n",
       "      <td>0.57</td>\n",
       "      <td>0.61</td>\n",
       "      <td></td>\n",
       "      <td></td>\n",
       "      <td></td>\n",
       "      <td></td>\n",
       "      <td></td>\n",
       "      <td></td>\n",
       "      <td></td>\n",
       "      <td></td>\n",
       "      <td></td>\n",
       "    </tr>\n",
       "    <tr>\n",
       "      <td>2018-04-01</td>\n",
       "      <td>0.52</td>\n",
       "      <td>0.58</td>\n",
       "      <td></td>\n",
       "      <td></td>\n",
       "      <td></td>\n",
       "      <td></td>\n",
       "      <td></td>\n",
       "      <td></td>\n",
       "      <td></td>\n",
       "      <td></td>\n",
       "      <td></td>\n",
       "      <td></td>\n",
       "    </tr>\n",
       "    <tr>\n",
       "      <td>2018-05-01</td>\n",
       "      <td>0.52</td>\n",
       "      <td></td>\n",
       "      <td></td>\n",
       "      <td></td>\n",
       "      <td></td>\n",
       "      <td></td>\n",
       "      <td></td>\n",
       "      <td></td>\n",
       "      <td></td>\n",
       "      <td></td>\n",
       "      <td></td>\n",
       "      <td></td>\n",
       "    </tr>\n",
       "  </tbody>\n",
       "</table>\n",
       "</div>"
      ],
      "text/plain": [
       "age                  0     1     2     3     4     5     6     7     8     9   \\\n",
       "first_order_month                                                               \n",
       "2017-06-01         0.52  0.57  0.62  0.73  0.84  0.92  1.03  1.09  1.15  1.22   \n",
       "2017-07-01         0.67  0.71  0.78  0.82  0.84  0.86  0.87  0.89  0.91  0.93   \n",
       "2017-08-01         0.59  0.64  0.69  0.73  0.78  0.81  0.83  0.87   0.9  0.92   \n",
       "2017-09-01         0.63  0.75  0.81  1.25  1.29  1.36  1.44  1.47  1.49         \n",
       "2017-10-01         0.56  0.62  0.64  0.66  0.68  0.69   0.7  0.71               \n",
       "2017-11-01         0.57  0.61  0.63  0.67  0.69   0.7  0.71                     \n",
       "2017-12-01         0.53  0.56  0.66  0.78  0.81  0.85                           \n",
       "2018-01-01         0.46  0.49  0.52  0.54  0.55                                 \n",
       "2018-02-01         0.46  0.49   0.5  0.51                                       \n",
       "2018-03-01         0.54  0.57  0.61                                             \n",
       "2018-04-01         0.52  0.58                                                   \n",
       "2018-05-01         0.52                                                         \n",
       "\n",
       "age                  10    11  \n",
       "first_order_month              \n",
       "2017-06-01         1.28  1.31  \n",
       "2017-07-01         0.95        \n",
       "2017-08-01                     \n",
       "2017-09-01                     \n",
       "2017-10-01                     \n",
       "2017-11-01                     \n",
       "2017-12-01                     \n",
       "2018-01-01                     \n",
       "2018-02-01                     \n",
       "2018-03-01                     \n",
       "2018-04-01                     \n",
       "2018-05-01                     "
      ]
     },
     "execution_count": 39,
     "metadata": {},
     "output_type": "execute_result"
    }
   ],
   "source": [
    "report['roi'] = report['ltv'] / mean_cost_per_user\n",
    "\n",
    "total_roi = report.pivot_table(\n",
    "    index='first_order_month', \n",
    "    columns='age', \n",
    "    values='roi', \n",
    "    aggfunc='mean').round(2)\n",
    "\n",
    "total_roi.cumsum(axis=1).fillna('')"
   ]
  },
  {
   "cell_type": "code",
   "execution_count": 40,
   "metadata": {},
   "outputs": [
    {
     "data": {
      "text/plain": [
       "age\n",
       "0     0.547500\n",
       "1     0.599091\n",
       "2     0.646000\n",
       "3     0.743333\n",
       "4     0.810000\n",
       "5     0.884286\n",
       "6     0.930000\n",
       "7     1.006000\n",
       "8     1.112500\n",
       "9     1.023333\n",
       "10    1.115000\n",
       "11    1.310000\n",
       "dtype: float64"
      ]
     },
     "execution_count": 40,
     "metadata": {},
     "output_type": "execute_result"
    }
   ],
   "source": [
    "total_roi.cumsum(axis=1).mean(axis=0)"
   ]
  },
  {
   "cell_type": "markdown",
   "metadata": {},
   "source": [
    "В среднем когорты окупаются за первые 8 месяцев."
   ]
  },
  {
   "cell_type": "markdown",
   "metadata": {},
   "source": [
    "- Расчёты по источникам"
   ]
  },
  {
   "cell_type": "code",
   "execution_count": 41,
   "metadata": {},
   "outputs": [],
   "source": [
    "#таблица с указанием источника первого посещения для каждого пользователя\n",
    "visits['activity_month'] = visits['start_ts'].astype('datetime64[M]')\n",
    "visits_new = visits.query('first_activity_month == activity_month')\n",
    "\n",
    "first_sources = visits_new[['uid', 'source_id', 'start_ts']].drop_duplicates().reset_index(drop=True)\n",
    "first_sources_new = first_sources.groupby('uid').agg({'start_ts': 'min'})\n",
    "\n",
    "first_visit_sources = first_sources.merge(first_sources_new, on=['start_ts', 'uid'], how='right')\n",
    "first_visit_sources = first_visit_sources[['uid', 'source_id']]\n",
    "first_visit_sources = first_visit_sources.rename(columns={'source_id': 'first_source'})\n",
    "\n",
    "visits_with_first_source = visits.merge(first_visit_sources, on='uid')"
   ]
  },
  {
   "cell_type": "code",
   "execution_count": 42,
   "metadata": {},
   "outputs": [
    {
     "data": {
      "text/html": [
       "<div>\n",
       "<style scoped>\n",
       "    .dataframe tbody tr th:only-of-type {\n",
       "        vertical-align: middle;\n",
       "    }\n",
       "\n",
       "    .dataframe tbody tr th {\n",
       "        vertical-align: top;\n",
       "    }\n",
       "\n",
       "    .dataframe thead th {\n",
       "        text-align: right;\n",
       "    }\n",
       "</style>\n",
       "<table border=\"1\" class=\"dataframe\">\n",
       "  <thead>\n",
       "    <tr style=\"text-align: right;\">\n",
       "      <th>age</th>\n",
       "      <th>0</th>\n",
       "      <th>1</th>\n",
       "      <th>2</th>\n",
       "      <th>3</th>\n",
       "      <th>4</th>\n",
       "      <th>5</th>\n",
       "    </tr>\n",
       "    <tr>\n",
       "      <th>first_source</th>\n",
       "      <th></th>\n",
       "      <th></th>\n",
       "      <th></th>\n",
       "      <th></th>\n",
       "      <th></th>\n",
       "      <th></th>\n",
       "    </tr>\n",
       "  </thead>\n",
       "  <tbody>\n",
       "    <tr>\n",
       "      <td>1</td>\n",
       "      <td>6.70</td>\n",
       "      <td>7.18</td>\n",
       "      <td>8.17</td>\n",
       "      <td>8.71</td>\n",
       "      <td>9.12</td>\n",
       "      <td>9.38</td>\n",
       "    </tr>\n",
       "    <tr>\n",
       "      <td>2</td>\n",
       "      <td>7.34</td>\n",
       "      <td>8.20</td>\n",
       "      <td>10.94</td>\n",
       "      <td>11.64</td>\n",
       "      <td>12.34</td>\n",
       "      <td>12.72</td>\n",
       "    </tr>\n",
       "    <tr>\n",
       "      <td>3</td>\n",
       "      <td>4.65</td>\n",
       "      <td>4.78</td>\n",
       "      <td>4.94</td>\n",
       "      <td>5.03</td>\n",
       "      <td>5.10</td>\n",
       "      <td>5.14</td>\n",
       "    </tr>\n",
       "    <tr>\n",
       "      <td>4</td>\n",
       "      <td>4.68</td>\n",
       "      <td>4.75</td>\n",
       "      <td>4.88</td>\n",
       "      <td>5.00</td>\n",
       "      <td>5.10</td>\n",
       "      <td>5.29</td>\n",
       "    </tr>\n",
       "    <tr>\n",
       "      <td>5</td>\n",
       "      <td>4.94</td>\n",
       "      <td>5.13</td>\n",
       "      <td>6.68</td>\n",
       "      <td>6.82</td>\n",
       "      <td>7.02</td>\n",
       "      <td>7.30</td>\n",
       "    </tr>\n",
       "    <tr>\n",
       "      <td>9</td>\n",
       "      <td>4.03</td>\n",
       "      <td>4.20</td>\n",
       "      <td>4.55</td>\n",
       "      <td>4.70</td>\n",
       "      <td>4.90</td>\n",
       "      <td>5.00</td>\n",
       "    </tr>\n",
       "    <tr>\n",
       "      <td>10</td>\n",
       "      <td>3.19</td>\n",
       "      <td>3.23</td>\n",
       "      <td>3.27</td>\n",
       "      <td>3.31</td>\n",
       "      <td>3.32</td>\n",
       "      <td>3.33</td>\n",
       "    </tr>\n",
       "  </tbody>\n",
       "</table>\n",
       "</div>"
      ],
      "text/plain": [
       "age              0     1      2      3      4      5\n",
       "first_source                                        \n",
       "1             6.70  7.18   8.17   8.71   9.12   9.38\n",
       "2             7.34  8.20  10.94  11.64  12.34  12.72\n",
       "3             4.65  4.78   4.94   5.03   5.10   5.14\n",
       "4             4.68  4.75   4.88   5.00   5.10   5.29\n",
       "5             4.94  5.13   6.68   6.82   7.02   7.30\n",
       "9             4.03  4.20   4.55   4.70   4.90   5.00\n",
       "10            3.19  3.23   3.27   3.31   3.32   3.33"
      ]
     },
     "execution_count": 42,
     "metadata": {},
     "output_type": "execute_result"
    }
   ],
   "source": [
    "#LTV по источникам\n",
    "orders_with_sources = orders_first_month.merge(first_visit_sources, on='uid')\n",
    "orders_with_sources['age'] = (\n",
    "    (orders_with_sources['order_month'] - orders_with_sources['first_order_month']) / np.timedelta64(1, 'M')).astype('int')\n",
    "\n",
    "cohorts_by_source = orders_with_sources.groupby(\n",
    "    ['first_source','age']).agg({'revenue': 'sum'}).reset_index()\n",
    "cohorts_by_source = cohorts_by_source.query('age <= 5')\n",
    "\n",
    "cohort_size_by_source = orders_with_sources.groupby('first_source').agg({'uid': 'nunique'}).reset_index()\n",
    "cohort_size_by_source = cohort_size_by_source.rename(columns={'uid': 'n_clients'})\n",
    "\n",
    "cohorts_by_source = cohorts_by_source.merge(cohort_size_by_source, on='first_source')\n",
    "cohorts_by_source['ltv'] = cohorts_by_source['revenue'] / cohorts_by_source['n_clients']\n",
    "ltv_by_sources = cohorts_by_source.pivot_table(\n",
    "                                            index='first_source', \n",
    "                                            columns='age', \n",
    "                                            values='ltv', \n",
    "                                            aggfunc='mean')\n",
    "ltv_by_sources.cumsum(axis=1).round(2)"
   ]
  },
  {
   "cell_type": "code",
   "execution_count": 43,
   "metadata": {},
   "outputs": [
    {
     "data": {
      "text/html": [
       "<div>\n",
       "<style scoped>\n",
       "    .dataframe tbody tr th:only-of-type {\n",
       "        vertical-align: middle;\n",
       "    }\n",
       "\n",
       "    .dataframe tbody tr th {\n",
       "        vertical-align: top;\n",
       "    }\n",
       "\n",
       "    .dataframe thead th {\n",
       "        text-align: right;\n",
       "    }\n",
       "</style>\n",
       "<table border=\"1\" class=\"dataframe\">\n",
       "  <thead>\n",
       "    <tr style=\"text-align: right;\">\n",
       "      <th>age</th>\n",
       "      <th>0</th>\n",
       "      <th>1</th>\n",
       "      <th>2</th>\n",
       "      <th>3</th>\n",
       "      <th>4</th>\n",
       "      <th>5</th>\n",
       "    </tr>\n",
       "    <tr>\n",
       "      <th>first_source</th>\n",
       "      <th></th>\n",
       "      <th></th>\n",
       "      <th></th>\n",
       "      <th></th>\n",
       "      <th></th>\n",
       "      <th></th>\n",
       "    </tr>\n",
       "  </thead>\n",
       "  <tbody>\n",
       "    <tr>\n",
       "      <td>1</td>\n",
       "      <td>0.93</td>\n",
       "      <td>1.00</td>\n",
       "      <td>1.14</td>\n",
       "      <td>1.21</td>\n",
       "      <td>1.27</td>\n",
       "      <td>1.30</td>\n",
       "    </tr>\n",
       "    <tr>\n",
       "      <td>2</td>\n",
       "      <td>0.60</td>\n",
       "      <td>0.67</td>\n",
       "      <td>0.90</td>\n",
       "      <td>0.95</td>\n",
       "      <td>1.01</td>\n",
       "      <td>1.04</td>\n",
       "    </tr>\n",
       "    <tr>\n",
       "      <td>3</td>\n",
       "      <td>0.34</td>\n",
       "      <td>0.35</td>\n",
       "      <td>0.37</td>\n",
       "      <td>0.37</td>\n",
       "      <td>0.38</td>\n",
       "      <td>0.38</td>\n",
       "    </tr>\n",
       "    <tr>\n",
       "      <td>4</td>\n",
       "      <td>0.79</td>\n",
       "      <td>0.80</td>\n",
       "      <td>0.82</td>\n",
       "      <td>0.84</td>\n",
       "      <td>0.86</td>\n",
       "      <td>0.89</td>\n",
       "    </tr>\n",
       "    <tr>\n",
       "      <td>5</td>\n",
       "      <td>0.66</td>\n",
       "      <td>0.69</td>\n",
       "      <td>0.89</td>\n",
       "      <td>0.91</td>\n",
       "      <td>0.94</td>\n",
       "      <td>0.98</td>\n",
       "    </tr>\n",
       "    <tr>\n",
       "      <td>9</td>\n",
       "      <td>0.80</td>\n",
       "      <td>0.83</td>\n",
       "      <td>0.90</td>\n",
       "      <td>0.93</td>\n",
       "      <td>0.97</td>\n",
       "      <td>0.99</td>\n",
       "    </tr>\n",
       "    <tr>\n",
       "      <td>10</td>\n",
       "      <td>0.73</td>\n",
       "      <td>0.74</td>\n",
       "      <td>0.75</td>\n",
       "      <td>0.75</td>\n",
       "      <td>0.76</td>\n",
       "      <td>0.76</td>\n",
       "    </tr>\n",
       "  </tbody>\n",
       "</table>\n",
       "</div>"
      ],
      "text/plain": [
       "age              0     1     2     3     4     5\n",
       "first_source                                    \n",
       "1             0.93  1.00  1.14  1.21  1.27  1.30\n",
       "2             0.60  0.67  0.90  0.95  1.01  1.04\n",
       "3             0.34  0.35  0.37  0.37  0.38  0.38\n",
       "4             0.79  0.80  0.82  0.84  0.86  0.89\n",
       "5             0.66  0.69  0.89  0.91  0.94  0.98\n",
       "9             0.80  0.83  0.90  0.93  0.97  0.99\n",
       "10            0.73  0.74  0.75  0.75  0.76  0.76"
      ]
     },
     "execution_count": 43,
     "metadata": {},
     "output_type": "execute_result"
    }
   ],
   "source": [
    "ltv_and_cac_by_source = cohorts_by_source.merge(source_orders_and_costs, left_on='first_source', right_on='source_id')\n",
    "ltv_and_cac_by_source['roi'] = ltv_and_cac_by_source['ltv'] / ltv_and_cac_by_source['cac']\n",
    "\n",
    "roi_report = ltv_and_cac_by_source.pivot_table(\n",
    "                                            index='first_source', \n",
    "                                            columns='age', \n",
    "                                            values='roi', \n",
    "                                            aggfunc='mean')\n",
    "\n",
    "roi_report.cumsum(axis=1).round(2)"
   ]
  },
  {
   "cell_type": "markdown",
   "metadata": {},
   "source": [
    "За первые полгода окупились только источники 1 и 2. Все остальные кроме 3 и 10 близки к тому, чтобы окупиться. Источники 3 и 10 приносят наименьший ROI.   "
   ]
  },
  {
   "cell_type": "markdown",
   "metadata": {},
   "source": [
    "- Расчёты по типу устройств"
   ]
  },
  {
   "cell_type": "code",
   "execution_count": 44,
   "metadata": {},
   "outputs": [],
   "source": [
    "first_devices = visits_new[['uid', 'device', 'start_ts']].drop_duplicates().reset_index(drop=True)\n",
    "\n",
    "first_devices_new = first_devices.groupby('uid').agg({'start_ts': 'min'})\n",
    "first_visit_devices = first_devices.merge(first_devices_new, on=['start_ts', 'uid'], how='right')\n",
    "first_visit_devices = first_visit_devices[['uid', 'device']]\n",
    "first_visit_devices = first_visit_devices.rename(columns={'device': 'first_device'})\n",
    "\n",
    "visits_with_first_device = visits.merge(first_visit_devices, on='uid')\n",
    "\n",
    "clients_with_device = visits_with_first_device[['uid', 'first_device', 'first_activity_month']].drop_duplicates().reset_index(drop=True)"
   ]
  },
  {
   "cell_type": "code",
   "execution_count": 45,
   "metadata": {},
   "outputs": [
    {
     "data": {
      "text/html": [
       "<div>\n",
       "<style scoped>\n",
       "    .dataframe tbody tr th:only-of-type {\n",
       "        vertical-align: middle;\n",
       "    }\n",
       "\n",
       "    .dataframe tbody tr th {\n",
       "        vertical-align: top;\n",
       "    }\n",
       "\n",
       "    .dataframe thead th {\n",
       "        text-align: right;\n",
       "    }\n",
       "</style>\n",
       "<table border=\"1\" class=\"dataframe\">\n",
       "  <thead>\n",
       "    <tr style=\"text-align: right;\">\n",
       "      <th></th>\n",
       "      <th>n_clients</th>\n",
       "    </tr>\n",
       "    <tr>\n",
       "      <th>device</th>\n",
       "      <th></th>\n",
       "    </tr>\n",
       "  </thead>\n",
       "  <tbody>\n",
       "    <tr>\n",
       "      <td>desktop</td>\n",
       "      <td>29209</td>\n",
       "    </tr>\n",
       "    <tr>\n",
       "      <td>touch</td>\n",
       "      <td>7312</td>\n",
       "    </tr>\n",
       "  </tbody>\n",
       "</table>\n",
       "</div>"
      ],
      "text/plain": [
       "         n_clients\n",
       "device            \n",
       "desktop      29209\n",
       "touch         7312"
      ]
     },
     "execution_count": 45,
     "metadata": {},
     "output_type": "execute_result"
    }
   ],
   "source": [
    "device_cohort_size = orders_with_device_and_source.groupby('device').agg({'uid': 'nunique'}).rename(columns={'uid' : 'n_clients'})\n",
    "device_cohort_size"
   ]
  },
  {
   "cell_type": "code",
   "execution_count": 46,
   "metadata": {},
   "outputs": [
    {
     "data": {
      "text/html": [
       "<div>\n",
       "<style scoped>\n",
       "    .dataframe tbody tr th:only-of-type {\n",
       "        vertical-align: middle;\n",
       "    }\n",
       "\n",
       "    .dataframe tbody tr th {\n",
       "        vertical-align: top;\n",
       "    }\n",
       "\n",
       "    .dataframe thead th {\n",
       "        text-align: right;\n",
       "    }\n",
       "</style>\n",
       "<table border=\"1\" class=\"dataframe\">\n",
       "  <thead>\n",
       "    <tr style=\"text-align: right;\">\n",
       "      <th>lifetime</th>\n",
       "      <th>0</th>\n",
       "      <th>1</th>\n",
       "      <th>2</th>\n",
       "      <th>3</th>\n",
       "      <th>4</th>\n",
       "      <th>5</th>\n",
       "    </tr>\n",
       "    <tr>\n",
       "      <th>first_device</th>\n",
       "      <th></th>\n",
       "      <th></th>\n",
       "      <th></th>\n",
       "      <th></th>\n",
       "      <th></th>\n",
       "      <th></th>\n",
       "    </tr>\n",
       "  </thead>\n",
       "  <tbody>\n",
       "    <tr>\n",
       "      <td>desktop</td>\n",
       "      <td>4.01</td>\n",
       "      <td>4.64</td>\n",
       "      <td>5.09</td>\n",
       "      <td>5.89</td>\n",
       "      <td>6.22</td>\n",
       "      <td>6.51</td>\n",
       "    </tr>\n",
       "    <tr>\n",
       "      <td>touch</td>\n",
       "      <td>3.44</td>\n",
       "      <td>4.12</td>\n",
       "      <td>4.41</td>\n",
       "      <td>4.63</td>\n",
       "      <td>4.80</td>\n",
       "      <td>4.97</td>\n",
       "    </tr>\n",
       "  </tbody>\n",
       "</table>\n",
       "</div>"
      ],
      "text/plain": [
       "lifetime         0     1     2     3     4     5\n",
       "first_device                                    \n",
       "desktop       4.01  4.64  5.09  5.89  6.22  6.51\n",
       "touch         3.44  4.12  4.41  4.63  4.80  4.97"
      ]
     },
     "execution_count": 46,
     "metadata": {},
     "output_type": "execute_result"
    }
   ],
   "source": [
    "#LTV\n",
    "orders_by_device = orders_first_month.merge(clients_with_device, on='uid')\n",
    "orders_by_device['lifetime'] = ((orders_by_device['order_month'] - orders_by_device['first_activity_month']) / np.timedelta64(1, 'M')).round().astype('int')\n",
    "\n",
    "cohorts_by_device = (orders_by_device[['lifetime', 'first_device', 'revenue']]\n",
    "                     .groupby(['first_device', 'lifetime'])\n",
    "                     .agg({'revenue': 'sum'})\n",
    "                     .query('lifetime <= 5')\n",
    "                     .reset_index())\n",
    "\n",
    "device_cohort_size = device_cohort_size.reset_index().rename(columns={'device' : 'first_device'})\n",
    "\n",
    "cohorts_by_device = cohorts_by_device.merge(device_cohort_size, on='first_device')\n",
    "cohorts_by_device['ltv'] = cohorts_by_device['revenue'] / cohorts_by_device['n_clients']\n",
    "\n",
    "ltv_by_devices = cohorts_by_device.pivot_table(\n",
    "                                            index='first_device', \n",
    "                                            columns='lifetime', \n",
    "                                            values='ltv', \n",
    "                                            aggfunc='mean')\n",
    "ltv_by_devices.cumsum(axis=1).round(2)"
   ]
  },
  {
   "cell_type": "code",
   "execution_count": 47,
   "metadata": {},
   "outputs": [
    {
     "data": {
      "text/html": [
       "<div>\n",
       "<style scoped>\n",
       "    .dataframe tbody tr th:only-of-type {\n",
       "        vertical-align: middle;\n",
       "    }\n",
       "\n",
       "    .dataframe tbody tr th {\n",
       "        vertical-align: top;\n",
       "    }\n",
       "\n",
       "    .dataframe thead th {\n",
       "        text-align: right;\n",
       "    }\n",
       "</style>\n",
       "<table border=\"1\" class=\"dataframe\">\n",
       "  <thead>\n",
       "    <tr style=\"text-align: right;\">\n",
       "      <th>lifetime</th>\n",
       "      <th>0</th>\n",
       "      <th>1</th>\n",
       "      <th>2</th>\n",
       "      <th>3</th>\n",
       "      <th>4</th>\n",
       "      <th>5</th>\n",
       "    </tr>\n",
       "    <tr>\n",
       "      <th>first_device</th>\n",
       "      <th></th>\n",
       "      <th></th>\n",
       "      <th></th>\n",
       "      <th></th>\n",
       "      <th></th>\n",
       "      <th></th>\n",
       "    </tr>\n",
       "  </thead>\n",
       "  <tbody>\n",
       "    <tr>\n",
       "      <td>desktop</td>\n",
       "      <td>0.45</td>\n",
       "      <td>0.52</td>\n",
       "      <td>0.57</td>\n",
       "      <td>0.66</td>\n",
       "      <td>0.70</td>\n",
       "      <td>0.73</td>\n",
       "    </tr>\n",
       "    <tr>\n",
       "      <td>touch</td>\n",
       "      <td>0.40</td>\n",
       "      <td>0.47</td>\n",
       "      <td>0.51</td>\n",
       "      <td>0.53</td>\n",
       "      <td>0.55</td>\n",
       "      <td>0.57</td>\n",
       "    </tr>\n",
       "  </tbody>\n",
       "</table>\n",
       "</div>"
      ],
      "text/plain": [
       "lifetime         0     1     2     3     4     5\n",
       "first_device                                    \n",
       "desktop       0.45  0.52  0.57  0.66  0.70  0.73\n",
       "touch         0.40  0.47  0.51  0.53  0.55  0.57"
      ]
     },
     "execution_count": 47,
     "metadata": {},
     "output_type": "execute_result"
    }
   ],
   "source": [
    "#ROI\n",
    "cac_by_device = cac_by_device.reset_index().rename(columns={'device' : 'first_device'})\n",
    "ltv_and_cac_by_device = (cohorts_by_device\n",
    "                         .merge(cac_by_device, on='first_device'))\n",
    "ltv_and_cac_by_device['roi'] = ltv_and_cac_by_device['ltv'] / ltv_and_cac_by_device['acqusition_cost']\n",
    "\n",
    "roi_report = ltv_and_cac_by_device.pivot_table(\n",
    "                                            index='first_device', \n",
    "                                            columns='lifetime', \n",
    "                                            values='roi', \n",
    "                                            aggfunc='mean')\n",
    "\n",
    "roi_report.cumsum(axis=1).round(2)"
   ]
  },
  {
   "cell_type": "markdown",
   "metadata": {},
   "source": [
    "Покупатели, совершающие покупки с ПК, окупаются лучше, чем те, кто заходит с мобильных устройств."
   ]
  },
  {
   "cell_type": "markdown",
   "metadata": {},
   "source": [
    "## Выводы"
   ]
  },
  {
   "cell_type": "markdown",
   "metadata": {},
   "source": [
    "Чтобы оптимизировать затраты на маркетинг, следует учесть следующие результаты анализа:\n",
    "1. Обратить внимание на источники 3 и 10. Они оказываются крайне неэффективными. При этом на источник 3 тратятся значительные средства.\n",
    "2. С точки зрения окупаемости лидирует источник 1. Возможно, стоит перераспределить средства в его пользу.\n",
    "3. Источники 2 и 9 стоит продолжать финансировать, т.к. коэффициент удержания у них сравнительно высок, а окупаемость средняя.\n",
    "4. Затраты на маркетинг отвечают сезонности спроса. С этой точки зрения всё в порядке.\n",
    "5. Интерфейс сайта удобен для совершения покупок. Об этом говорит тот факт, что абсолютное большинство пользователей совершают покупку в течение одного дня после факта перехода на сайт, а точнее в течение 1 сессии.\n",
    "6. Количество покупателей с мобильных устройств значительно ниже по сравнению с ПК. Это может быть связано с тем, что с мобильных устройств реже заходят на сайт. Возможно, стоит проверить удобство мобильного интерфейса для пользователя.\n",
    "\n",
    "Немного цифр:\n",
    "1. Retention Rate за 1 месяц - 6,5%\n",
    "2. Средний LTV за полгода - 7,28\n",
    "4. Средний САС - 9,01\n",
    "3. В среднем когорты окупаются (ROI > 1) за первые 8 месяцев"
   ]
  }
 ],
 "metadata": {
  "kernelspec": {
   "display_name": "Python 3",
   "language": "python",
   "name": "python3"
  },
  "language_info": {
   "codemirror_mode": {
    "name": "ipython",
    "version": 3
   },
   "file_extension": ".py",
   "mimetype": "text/x-python",
   "name": "python",
   "nbconvert_exporter": "python",
   "pygments_lexer": "ipython3",
   "version": "3.8.2"
  }
 },
 "nbformat": 4,
 "nbformat_minor": 2
}
