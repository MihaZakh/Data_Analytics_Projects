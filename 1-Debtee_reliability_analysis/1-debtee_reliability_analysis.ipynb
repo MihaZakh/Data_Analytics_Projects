{
 "cells": [
  {
   "cell_type": "markdown",
   "metadata": {},
   "source": [
    "## Исследование надёжности заёмщиков\n",
    "\n",
    "Кредитному отделу банка необходимо разобраться, влияет ли семейное положение и количество детей клиента на факт погашения кредита в срок. Банк предоставил статистику о платёжеспособности клиентов. Результаты анализа будут использованы при построении модели **кредитного скоринга** — системы, которая оценивает способность потенциального заёмщика выплатить кредит."
   ]
  },
  {
   "cell_type": "markdown",
   "metadata": {},
   "source": [
    "### Шаг 1. Откройте файл с данными и изучите общую информацию. "
   ]
  },
  {
   "cell_type": "code",
   "execution_count": 1,
   "metadata": {},
   "outputs": [
    {
     "name": "stdout",
     "output_type": "stream",
     "text": [
      "<class 'pandas.core.frame.DataFrame'>\n",
      "RangeIndex: 21525 entries, 0 to 21524\n",
      "Data columns (total 12 columns):\n",
      "children            21525 non-null int64\n",
      "days_employed       19351 non-null float64\n",
      "dob_years           21525 non-null int64\n",
      "education           21525 non-null object\n",
      "education_id        21525 non-null int64\n",
      "family_status       21525 non-null object\n",
      "family_status_id    21525 non-null int64\n",
      "gender              21525 non-null object\n",
      "income_type         21525 non-null object\n",
      "debt                21525 non-null int64\n",
      "total_income        19351 non-null float64\n",
      "purpose             21525 non-null object\n",
      "dtypes: float64(2), int64(5), object(5)\n",
      "memory usage: 2.0+ MB\n",
      "None\n"
     ]
    }
   ],
   "source": [
    "import pandas as pd\n",
    "\n",
    "\n",
    "data = pd.read_csv('/datasets/data.csv')\n",
    "print(data.info())"
   ]
  },
  {
   "cell_type": "markdown",
   "metadata": {},
   "source": [
    "### Вывод"
   ]
  },
  {
   "cell_type": "markdown",
   "metadata": {},
   "source": [
    "В столбцах days_employed и total_income есть пропуски, причём скорее всего в строках с одними и теми же данными. Это значит, что банк не обладает данными о стаже работы и доходах более 2000 своих заёмщиков. Столбец days_employed имеет тип float64, что явно является недочётом составителей или ошибкой чтения. Пока непонятно, почему долг измеряется целыми числами, а доход - дробными."
   ]
  },
  {
   "cell_type": "markdown",
   "metadata": {},
   "source": [
    "### Шаг 2. Предобработка данных"
   ]
  },
  {
   "cell_type": "markdown",
   "metadata": {},
   "source": [
    "### Обработка пропусков"
   ]
  },
  {
   "cell_type": "code",
   "execution_count": 2,
   "metadata": {},
   "outputs": [
    {
     "name": "stderr",
     "output_type": "stream",
     "text": [
      "/opt/conda/lib/python3.7/site-packages/pandas/core/indexing.py:543: SettingWithCopyWarning: \n",
      "A value is trying to be set on a copy of a slice from a DataFrame.\n",
      "Try using .loc[row_indexer,col_indexer] = value instead\n",
      "\n",
      "See the caveats in the documentation: http://pandas.pydata.org/pandas-docs/stable/indexing.html#indexing-view-versus-copy\n",
      "  self.obj[item] = s\n"
     ]
    }
   ],
   "source": [
    "#заменяем пропуcки на средние или медианные значения\n",
    "\n",
    "#обработаем столбцы total_income и days_employed\n",
    "\n",
    "#для типа \"сотрудник\"\n",
    "employee = data[data['income_type'] == 'сотрудник']\n",
    "employee_income_mean = employee.loc[:,'total_income'].mean()\n",
    "employee.loc[:,'total_income'] = employee.loc[:,'total_income'].fillna(value=employee_income_mean)\n",
    "employee_days_mean = employee.loc[:,'days_employed'].mean()\n",
    "employee.loc[:,'days_employed'] = employee.loc[:,'days_employed'].fillna(value=employee_days_mean)\n",
    "data[data['income_type'] == 'сотрудник'] = employee\n",
    "\n",
    "\n",
    "#для типа \"компаньон\"\n",
    "compangion = data[data['income_type'] == 'компаньон']\n",
    "compangion_income_median = compangion.loc[:, 'total_income'].median()\n",
    "compangion.loc[:, 'total_income'] = compangion.loc[:, 'total_income'].fillna(value=compangion_income_median)\n",
    "compangion_days_mean = compangion.loc[:, 'days_employed'].mean()\n",
    "compangion.loc[:, 'days_employed'] = compangion.loc[:, 'days_employed'].fillna(value=compangion_days_mean)\n",
    "data[data['income_type'] == 'компаньон'] = compangion\n",
    "\n",
    "#для типа \"пенсионер\"\n",
    "pensioner = data[data['income_type'] == 'пенсионер']\n",
    "pensioner_income_median = pensioner.loc[:, 'total_income'].median()\n",
    "pensioner.loc[:, 'total_income'] = pensioner.loc[:, 'total_income'].fillna(value=pensioner_income_median)\n",
    "pensioner_days_mean = pensioner.loc[:, 'days_employed'].mean()\n",
    "pensioner.loc[:, 'days_employed'] = pensioner.loc[:, 'days_employed'].fillna(value=pensioner_days_mean)\n",
    "data[data['income_type'] == 'пенсионер'] = pensioner\n",
    "\n",
    "\n",
    "#для типа \"госслужащий\"\n",
    "civil_service = data[data['income_type'] == 'госслужащий']\n",
    "cs_income_median = civil_service.loc[:, 'total_income'].median()\n",
    "civil_service.loc[:, 'total_income'] = civil_service.loc[:, 'total_income'].fillna(value=cs_income_median)\n",
    "cs_days_mean = civil_service.loc[:, 'days_employed'].mean()\n",
    "civil_service.loc[:, 'days_employed'] = civil_service.loc[:, 'days_employed'].fillna(value=cs_days_mean)\n",
    "data[data['income_type'] == 'госслужащий'] = civil_service \n",
    "\n",
    "\n",
    "#для типа \"предприниматель\"\n",
    "entrepreneur = data[data['income_type'] == 'предприниматель']\n",
    "entrepreneur_income = entrepreneur.loc[:, 'total_income'].mean()\n",
    "entrepreneur.loc[:, 'total_income'] = entrepreneur.loc[:, 'total_income'].fillna(value=entrepreneur_income)\n",
    "entrepreneur_days = entrepreneur.loc[:, 'days_employed'].mean()\n",
    "entrepreneur.loc[:, 'days_employed'] = entrepreneur.loc[:, 'days_employed'].fillna(value=entrepreneur_income)\n",
    "data[data['income_type'] == 'предприниматель'] = entrepreneur\n"
   ]
  },
  {
   "cell_type": "markdown",
   "metadata": {},
   "source": [
    "## Вывод"
   ]
  },
  {
   "cell_type": "markdown",
   "metadata": {},
   "source": [
    "В столбцах, содержащих информацию о совокупном доходе и трудовом стаже, встречаются пропуски. Они были заменены на средние или медианные значения в зависимости от типа трудоустройства. Медианные значения использовались для тех категорий, которые имели большой разрыв в зарплате между минимальным и максимальным значениями."
   ]
  },
  {
   "cell_type": "markdown",
   "metadata": {},
   "source": [
    "### Замена типа данных"
   ]
  },
  {
   "cell_type": "code",
   "execution_count": 3,
   "metadata": {},
   "outputs": [],
   "source": [
    "data['days_employed'] = data['days_employed'].astype('int')\n",
    "data['total_income'] = data['total_income'].astype('int')"
   ]
  },
  {
   "cell_type": "markdown",
   "metadata": {},
   "source": [
    "### Вывод"
   ]
  },
  {
   "cell_type": "markdown",
   "metadata": {},
   "source": [
    "В столбцах, содержащих информацию о стаже работы и совокупном доходе, вещественный тип данных был заменён на целочисленный, так как в таком виде данные легче воспринимаются человеком."
   ]
  },
  {
   "cell_type": "markdown",
   "metadata": {},
   "source": [
    "### Обработка дубликатов"
   ]
  },
  {
   "cell_type": "code",
   "execution_count": 4,
   "metadata": {},
   "outputs": [],
   "source": [
    "data['children'] = data['children'].replace(-1, 1)\n",
    "data['children'] = data['children'].replace(20, 2)\n",
    "\n",
    "data['education'] = data['education'].str.lower()\n",
    "data = data.drop_duplicates().reset_index(drop=True)"
   ]
  },
  {
   "cell_type": "markdown",
   "metadata": {},
   "source": [
    "### Вывод"
   ]
  },
  {
   "cell_type": "markdown",
   "metadata": {},
   "source": [
    "В столбце с указанием уровня образования были обнаружены одинаковые значения, написанные в разном регистре. Для того, чтобы гарантировать удаление всех дубликатов, все значения указанного столбца были приведены к нижнему регистру. Далее были удалены все дублирующиеся строки данных."
   ]
  },
  {
   "cell_type": "markdown",
   "metadata": {},
   "source": [
    "### Лемматизация"
   ]
  },
  {
   "cell_type": "code",
   "execution_count": 5,
   "metadata": {},
   "outputs": [],
   "source": [
    "from pymystem3 import Mystem\n",
    "from collections import Counter \n",
    "\n",
    "\n",
    "m = Mystem()\n",
    "  \n",
    "purposes = data['purpose']    \n",
    "list_of_lemmas = []    \n",
    "\n",
    "for item in purposes:\n",
    "    lemmas = m.lemmatize(item)\n",
    "    for lemma in lemmas:\n",
    "        list_of_lemmas.append(lemma)\n",
    "\n",
    "lemmas_count = Counter(list_of_lemmas)"
   ]
  },
  {
   "cell_type": "markdown",
   "metadata": {},
   "source": [
    "## Категоризация данных"
   ]
  },
  {
   "cell_type": "code",
   "execution_count": 6,
   "metadata": {},
   "outputs": [],
   "source": [
    "from pymystem3 import Mystem\n",
    "from collections import Counter \n",
    "\n",
    "\n",
    "m = Mystem()\n",
    "def categorize_purpose(line):\n",
    "    common_purposes = ['жилье', 'коммерческий', 'недвижимость', 'автомобиль', 'образование', 'свадьба']\n",
    "    lemma = m.lemmatize(line)\n",
    "    for purpose in common_purposes:\n",
    "        if purpose in lemma:\n",
    "            return purpose\n",
    "                \n",
    "data['purpose_category'] = data['purpose'].apply(categorize_purpose)\n",
    "data['purpose_category'] = data['purpose_category'].replace('коммерческий', 'коммерция')\n",
    "\n",
    "def categorize_income(income_data):\n",
    "    if income_data <= 120000:\n",
    "        return 'низкий'\n",
    "    elif 120000 < income_data <= 600000:\n",
    "        return 'средний'\n",
    "    elif 600000 < income_data <= 1200000:\n",
    "        return 'выше среднего'\n",
    "    elif 1200000 < income_data:\n",
    "        return 'высокий'\n",
    "    \n",
    "data['income_size'] = data['total_income'].apply(categorize_income)"
   ]
  },
  {
   "cell_type": "markdown",
   "metadata": {},
   "source": [
    "### Вывод"
   ]
  },
  {
   "cell_type": "markdown",
   "metadata": {},
   "source": [
    "В результате лемматизации и последующего подсчёта наиболее встречающихся лемм, было выявлено, что цели кредита обобщённо можно разделить на: жилую недвижимость, коммерческую недвижимость, автомобиль, образование и свадьбу. Чтобы первые две цели сформулировать короче, было решено оставить от первой \"жилье\", а от второй - \"коммерция\". Категории целей вынесены в отдельный столбец таблицы."
   ]
  },
  {
   "cell_type": "markdown",
   "metadata": {},
   "source": [
    "### Шаг 3. Ответьте на вопросы"
   ]
  },
  {
   "cell_type": "markdown",
   "metadata": {},
   "source": [
    "- Есть ли зависимость между наличием детей и возвратом кредита в срок?"
   ]
  },
  {
   "cell_type": "code",
   "execution_count": 7,
   "metadata": {},
   "outputs": [
    {
     "name": "stdout",
     "output_type": "stream",
     "text": [
      "Доля должников с детьми: 3%\n",
      "Доля должников без детей: 5%\n"
     ]
    }
   ],
   "source": [
    "debt_and_children = data.loc[:, ['children', 'debt']]\n",
    "\n",
    "family_debt = len(debt_and_children[(debt_and_children['debt'] > 0) & (debt_and_children['children'] > 0)])\n",
    "childfree_debt = len(debt_and_children[(debt_and_children['debt'] > 0) & (debt_and_children['children'] == 0)])\n",
    "\n",
    "family = len(debt_and_children[debt_and_children['children'] > 0])\n",
    "childfree = len(debt_and_children[debt_and_children['children'] == 0])\n",
    "total = family + childfree\n",
    "\n",
    "family_part = family_debt / total\n",
    "childfree_part = childfree_debt / total\n",
    "\n",
    "print('Доля должников с детьми: {:.0%}'.format(family_part))\n",
    "print('Доля должников без детей: {:.0%}'.format(childfree_part))"
   ]
  },
  {
   "cell_type": "markdown",
   "metadata": {},
   "source": [
    "### Вывод"
   ]
  },
  {
   "cell_type": "markdown",
   "metadata": {},
   "source": [
    "Как показывает проведённый анализ, наличие детей не сильно влияет на процент должников по кредиту (разница = 2%)."
   ]
  },
  {
   "cell_type": "markdown",
   "metadata": {},
   "source": [
    "- Есть ли зависимость между семейным положением и возвратом кредита в срок?"
   ]
  },
  {
   "cell_type": "code",
   "execution_count": 8,
   "metadata": {},
   "outputs": [
    {
     "name": "stdout",
     "output_type": "stream",
     "text": [
      "Доля должников\n",
      "\n",
      "| женат / замужем | гражданский брак | вдовец / вдова | в разводе | Не женат / не замужем | \n",
      "-------------------------------------------------------------------------------------------\n",
      "              53% |              22% |             4% |        5% |                    16%\n"
     ]
    }
   ],
   "source": [
    "status_and_debt = data.loc[:, ['family_status', 'family_status_id', 'debt']]\n",
    "\n",
    "married = status_and_debt[status_and_debt['family_status_id'] == 0]\n",
    "civil_marriage = status_and_debt[status_and_debt['family_status_id'] == 1]\n",
    "widow = status_and_debt[status_and_debt['family_status_id'] == 2]\n",
    "divorced = status_and_debt[status_and_debt['family_status_id'] == 3]\n",
    "not_married = status_and_debt[status_and_debt['family_status_id'] == 4]\n",
    "\n",
    "married_debt = len(married[married['debt'] > 0])\n",
    "civil_marriage_debt = len(civil_marriage[civil_marriage['debt'] > 0])\n",
    "widow_debt = len(widow[widow['debt'] > 0])\n",
    "divorced_debt = len(divorced[divorced['debt'] > 0])\n",
    "not_married_debt = len(not_married[not_married['debt'] > 0])\n",
    "\n",
    "total_debt = len(data[data['debt'] > 0])\n",
    "\n",
    "married_part = married_debt / total_debt\n",
    "civil_marriage_part = civil_marriage_debt / total_debt\n",
    "widow_part = widow_debt / total_debt\n",
    "divorced_part = divorced_debt / total_debt \n",
    "not_married_part = not_married_debt / total_debt\n",
    "\n",
    "list_of_status = data['family_status'].unique()\n",
    "#print(list_of_status)['женат / замужем' 'гражданский брак' 'вдовец / вдова' 'в разводе','Не женат / не замужем']\n",
    "\n",
    "percent=[married_part, civil_marriage_part, widow_part, divorced_part, not_married_part]\n",
    "header = list_of_status\n",
    "\n",
    "print('Доля должников')\n",
    "print()\n",
    "print('| ', end='')\n",
    "for name in header:\n",
    "    print(name, end=' | ')\n",
    "print()\n",
    "print('-------------------------------------------------------------------------------------------')\n",
    "\n",
    "print(' {: 16.0%} | {: 16.0%} | {: 14.0%} | {: 9.0%} | {: 22.0%}'.format(percent[0], percent[1], percent[2], percent[3],\n",
    "                                                                               percent[4]))"
   ]
  },
  {
   "cell_type": "markdown",
   "metadata": {},
   "source": [
    "### Вывод"
   ]
  },
  {
   "cell_type": "markdown",
   "metadata": {},
   "source": [
    "Среди должников больше всего людей, состоящих в официальном браке (53%)."
   ]
  },
  {
   "cell_type": "markdown",
   "metadata": {},
   "source": [
    "- Есть ли зависимость между уровнем дохода и возвратом кредита в срок?"
   ]
  },
  {
   "cell_type": "code",
   "execution_count": 9,
   "metadata": {},
   "outputs": [
    {
     "name": "stdout",
     "output_type": "stream",
     "text": [
      "Доля должников\n",
      "\n",
      "| средний | низкий | выше среднего | высокий | \n",
      "-------------------------------------------------------------------------------------------\n",
      "    65.9% |  33.7% |          0.4% |     0.1% \n"
     ]
    }
   ],
   "source": [
    "income_and_debt = data.loc[:, ['income_size', 'debt']]\n",
    "\n",
    "low = income_and_debt[income_and_debt['income_size'] == 'низкий']\n",
    "medium = income_and_debt[income_and_debt['income_size'] == 'средний']\n",
    "medium_plus = income_and_debt[income_and_debt['income_size'] == 'выше среднего']\n",
    "high = status_and_debt[income_and_debt['income_size'] == 'высокий']\n",
    "\n",
    "low_debt = len(low[low['debt'] > 0])\n",
    "medium_debt = len(medium[medium['debt'] > 0])\n",
    "medium_plus_debt = len(medium_plus[medium_plus['debt'] > 0])\n",
    "high_debt = len(high[high['debt'] > 0])\n",
    "\n",
    "low_part = low_debt / total_debt\n",
    "medium_part = medium_debt / total_debt\n",
    "medium_plus_part = medium_plus_debt / total_debt\n",
    "high_part = high_debt / total_debt\n",
    "\n",
    "income_header = data['income_size'].unique()\n",
    "values = [low_part, medium_part, medium_plus_part, high_part]\n",
    "\n",
    "print('Доля должников')\n",
    "print()\n",
    "print('| ', end='')\n",
    "for cat in income_header:\n",
    "    print(cat, end=' | ')\n",
    "print()\n",
    "print('-------------------------------------------------------------------------------------------')\n",
    "\n",
    "print(' {: 8.1%} | {: 6.1%} | {: 13.1%} | {: 8.1%} '.format(values[1], values[0], values[2], values[3]))\n"
   ]
  },
  {
   "cell_type": "markdown",
   "metadata": {},
   "source": [
    "### Вывод"
   ]
  },
  {
   "cell_type": "markdown",
   "metadata": {},
   "source": [
    "Среди должников около 66% клиентов со средним доходом (до 50 000 в месяц). Треть должников имеют средний доход (меньше прожиточного минимума). Следовательно, средний уровень дохода увеличивает вероятность невозврата кредита."
   ]
  },
  {
   "cell_type": "markdown",
   "metadata": {},
   "source": [
    "- Как разные цели кредита влияют на его возврат в срок?"
   ]
  },
  {
   "cell_type": "code",
   "execution_count": 10,
   "metadata": {},
   "outputs": [
    {
     "name": "stdout",
     "output_type": "stream",
     "text": [
      "Доля должников\n",
      "\n",
      "| жилье | автомобиль | образование | свадьба | недвижимость | коммерция | \n",
      "-------------------------------------------------------------------------\n",
      "     6% |        18% |         22% |     23% |          21% |        11%\n"
     ]
    }
   ],
   "source": [
    "purpose_and_debt = data.loc[:, ['purpose_category', 'debt']]\n",
    "\n",
    "commercial = purpose_and_debt[purpose_and_debt['purpose_category'] == 'коммерция']\n",
    "premises = purpose_and_debt[purpose_and_debt['purpose_category'] == 'недвижимость']\n",
    "housing = purpose_and_debt[purpose_and_debt['purpose_category'] == 'жилье']\n",
    "auto = purpose_and_debt[purpose_and_debt['purpose_category'] == 'автомобиль']\n",
    "education = purpose_and_debt[purpose_and_debt['purpose_category'] == 'образование']\n",
    "wedding = purpose_and_debt[purpose_and_debt['purpose_category'] == 'свадьба']\n",
    "\n",
    "commercial_debt = len(commercial[commercial['debt'] > 0])\n",
    "premises_debt = len(premises[premises['debt'] > 0])\n",
    "housing_debt = len(housing[housing['debt'] > 0])\n",
    "auto_debt = len(auto[auto['debt'] > 0])\n",
    "education_debt = len(education[education['debt'] > 0])\n",
    "wedding_debt = len(wedding[wedding['debt'] > 0])\n",
    "\n",
    "commercial_part = commercial_debt / total_debt\n",
    "housing_part = housing_debt / total_debt\n",
    "premises_part = premises_debt / total_debt\n",
    "auto_part = auto_debt / total_debt\n",
    "education_part = education_debt / total_debt\n",
    "wedding_part = wedding_debt / total_debt\n",
    "\n",
    "purpose_header = data['purpose_category'].unique()\n",
    "cells = [commercial_part, housing_part, premises_part, auto_part, education_part, wedding_part]\n",
    "\n",
    "print('Доля должников')\n",
    "print()\n",
    "print('| ', end='')\n",
    "for purpose in purpose_header:\n",
    "    print(purpose, end=' | ')\n",
    "print()\n",
    "print('-------------------------------------------------------------------------')\n",
    "\n",
    "print(' {: 6.0%} | {: 10.0%} | {: 11.0%} | {: 7.0%} | {: 12.0%} | {: 10.0%}'.format(cells[0], cells[1], cells[2], cells[3], \n",
    "                                                                                    cells[4], cells[5]))\n"
   ]
  },
  {
   "cell_type": "markdown",
   "metadata": {},
   "source": [
    "### Вывод"
   ]
  },
  {
   "cell_type": "markdown",
   "metadata": {},
   "source": [
    "Самый высокий процент задолженности у тех, кто брал кредит на свадьбу. Не отстают и кредиты на образование и недвижимость (без указания её специфики). Выводы о влиянии цели кредита на его погашение могут оказаться неточными, так как данные о недвижимости не конкретны. "
   ]
  },
  {
   "cell_type": "markdown",
   "metadata": {},
   "source": [
    "### Шаг 4. Общий вывод"
   ]
  },
  {
   "cell_type": "markdown",
   "metadata": {},
   "source": [
    "По результатам проведённого анализа можно сделать вывод о том, что чаще всего не отдают кредит люди со средним доходом, состоящие в официальном браке и взявшие кредит на свадьбу."
   ]
  }
 ],
 "metadata": {
  "kernelspec": {
   "display_name": "Python 3",
   "language": "python",
   "name": "python3"
  },
  "language_info": {
   "codemirror_mode": {
    "name": "ipython",
    "version": 3
   },
   "file_extension": ".py",
   "mimetype": "text/x-python",
   "name": "python",
   "nbconvert_exporter": "python",
   "pygments_lexer": "ipython3",
   "version": "3.8.2"
  }
 },
 "nbformat": 4,
 "nbformat_minor": 2
}
